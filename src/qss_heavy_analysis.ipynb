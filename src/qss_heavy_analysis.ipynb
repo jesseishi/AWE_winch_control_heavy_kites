{
 "cells": [
  {
   "cell_type": "code",
   "execution_count": null,
   "metadata": {},
   "outputs": [],
   "source": [
    "# Imports\n",
    "import matplotlib.pyplot as plt\n",
    "import numpy as np\n",
    "import pandas as pd\n",
    "import plotly.express as px\n",
    "import seaborn as sns\n",
    "\n",
    "from QSSBuilder import QSSBuilder\n"
   ]
  },
  {
   "attachments": {},
   "cell_type": "markdown",
   "metadata": {},
   "source": [
    "# Calculating many steady-states.\n",
    "Here we loop through a whole bunch of states and calculate the output power, reeling factor, and other outputs for it. This is then saved as a csv file in the results folder."
   ]
  },
  {
   "cell_type": "code",
   "execution_count": null,
   "metadata": {},
   "outputs": [],
   "source": [
    "# qss = QSSBuilder(\"MegAWES\")  # When you want to start fresh - name of one of the configurations in \"parameters\".\n",
    "qss = QSSBuilder.from_csv(\"MegAWES\")  # When you want to continue from an existing csv.\n"
   ]
  },
  {
   "cell_type": "code",
   "execution_count": null,
   "metadata": {},
   "outputs": [],
   "source": [
    "# Combine all possible combinations of states, and calculate the output if it didn't\n",
    "# exist in the DataFrame already. This might even take a while when there re no new\n",
    "# combinations as it takes a while to check that.\n",
    "qss.add_steady_states(\n",
    "    {\n",
    "        \"vw_mps\": np.unique(np.linspace(0, 30, 13)),\n",
    "        \"Lt_m\": np.unique(np.linspace(500, 1500, 3, dtype=int)),\n",
    "        \"phi_deg\": [0.0, 17.5, 35],\n",
    "        \"beta_deg\": [0.0, 30],\n",
    "        \"chi_deg\": np.unique(np.linspace(0, 180, 5, dtype=int)),\n",
    "        # TODO: Smarter way to find different Ftk_N that work than looping over all values.\n",
    "        # Use dtype int for the merge into an existing DataFrame to be less error-prone.\n",
    "        # Otherwise it sometimes couldn't match two floats with each other. Integer\n",
    "        # precision is also more than enough here.\n",
    "        # \"Ftk_N\": np.unique(np.logspace(1, 7, 103, dtype=int)),\n",
    "        \"Ftk_N\": np.unique(np.arange(10, 1e7, 2500, dtype=int)),\n",
    "    }\n",
    ")\n",
    "qss.save_df()\n"
   ]
  },
  {
   "cell_type": "code",
   "execution_count": null,
   "metadata": {},
   "outputs": [],
   "source": [
    "qss_massless = QSSBuilder.from_csv(\"MegAWES_massless\")\n"
   ]
  },
  {
   "cell_type": "code",
   "execution_count": null,
   "metadata": {},
   "outputs": [],
   "source": [
    "qss_massless.add_steady_states(\n",
    "    {\n",
    "        \"vw_mps\": np.unique(np.linspace(0, 30, 13)),\n",
    "        \"Lt_m\": np.unique(np.linspace(500, 1500, 3, dtype=int)),\n",
    "        \"phi_deg\": [0.0, 17.5, 35],\n",
    "        \"beta_deg\": [0.0, 30],\n",
    "        \"chi_deg\": np.unique(np.linspace(0, 180, 5, dtype=int)),\n",
    "        \"Ftk_N\": np.unique(np.arange(10, 1e7, 2500, dtype=int)),\n",
    "    }\n",
    ")\n",
    "qss_massless.save_df()\n"
   ]
  },
  {
   "attachments": {},
   "cell_type": "markdown",
   "metadata": {},
   "source": [
    "# Cleaning the data"
   ]
  },
  {
   "cell_type": "code",
   "execution_count": null,
   "metadata": {},
   "outputs": [],
   "source": [
    "from helper.plotting_settings import set_labels, FULLSIZE, PARTSIZE\n",
    "\n",
    "# Interactive plots when using vscode\n",
    "%matplotlib widget"
   ]
  },
  {
   "cell_type": "code",
   "execution_count": null,
   "metadata": {},
   "outputs": [],
   "source": [
    "# Show what the problem is\n",
    "beta_deg_bar = 0\n",
    "phi_deg_bar = 0\n",
    "chi_deg_bar = 90\n",
    "Lt_m_bar = 1000\n",
    "vw_mps_bar = 10\n",
    "temp = qss.df[\n",
    "    (qss.df[\"beta_deg\"] == beta_deg_bar)\n",
    "    & (qss.df[\"phi_deg\"] == phi_deg_bar)\n",
    "    & (qss.df[\"chi_deg\"] == chi_deg_bar)\n",
    "    & (qss.df[\"Lt_m\"] == Lt_m_bar)\n",
    "    & (qss.df[\"vw_mps\"] == vw_mps_bar)\n",
    "].sort_values(\"Ftg_N\", ascending=False)\n",
    "\n",
    "fig, ax = plt.subplots(1, 1, figsize=PARTSIZE)\n",
    "fig.suptitle(\n",
    "    f\"wind speed = {vw_mps_bar} m/s, elevation = {beta_deg_bar} deg, azimuth = {phi_deg_bar} deg, \\ntether length = {Lt_m_bar} m, course angle = {chi_deg_bar} deg\"\n",
    ")\n",
    "\n",
    "\n",
    "sns.lineplot(temp, x=\"vr_mps\", y=\"Ftg_N\", ax=ax, sort=False)\n",
    "ax.grid()\n",
    "set_labels(ax)\n",
    "plt.tight_layout()"
   ]
  },
  {
   "cell_type": "code",
   "execution_count": null,
   "metadata": {},
   "outputs": [],
   "source": [
    "# Tether force is sorted from high to low, so as soon as the change in reeling speed is\n",
    "# negative we delete those values.\n",
    "temp[\"delete\"] = temp[\"vr_mps\"].diff() < 0\n",
    "temp = temp[temp[\"vr_mps\"] > -10]\n",
    "fig, ax = plt.subplots(1, 1, figsize=PARTSIZE)\n",
    "fig.suptitle(\n",
    "    f\"wind speed = {vw_mps_bar} m/s, elevation = {beta_deg_bar} deg, azimuth = {phi_deg_bar} deg, \\ntether length = {Lt_m_bar} m, course angle = {chi_deg_bar} deg\"\n",
    ")\n",
    "\n",
    "\n",
    "sns.lineplot(temp, x=\"vr_mps\", y=\"Ftg_N\", hue=\"delete\", ax=ax, sort=False)\n",
    "ax.grid()\n",
    "set_labels(ax)\n",
    "plt.tight_layout()\n",
    "plt.savefig(\"..\\\\results\\\\before_cleaning.png\")"
   ]
  },
  {
   "cell_type": "code",
   "execution_count": null,
   "metadata": {},
   "outputs": [],
   "source": [
    "# Mark what we want to delete.\n",
    "qss.df[\"to_delete\"] = False\n",
    "for beta_deg in qss.df[\"beta_deg\"].unique():\n",
    "    for phi_deg in qss.df[\"phi_deg\"].unique():\n",
    "        for chi_deg in qss.df[\"chi_deg\"].unique():\n",
    "            for Lt_m in qss.df[\"Lt_m\"].unique():\n",
    "                for vw_mps in qss.df[\"vw_mps\"].unique():\n",
    "                    temp = qss.df[\n",
    "                        (qss.df[\"beta_deg\"] == beta_deg)\n",
    "                        & (qss.df[\"phi_deg\"] == phi_deg)\n",
    "                        & (qss.df[\"chi_deg\"] == chi_deg)\n",
    "                        & (qss.df[\"Lt_m\"] == Lt_m)\n",
    "                        & (qss.df[\"vw_mps\"] == vw_mps)\n",
    "                    ].sort_values(\"Ftg_N\", ascending=False)\n",
    "                    qss.df.loc[temp.index, \"to_delete\"] = temp[\"vr_mps\"].diff() < 0"
   ]
  },
  {
   "cell_type": "code",
   "execution_count": null,
   "metadata": {},
   "outputs": [],
   "source": [
    "temp = qss.df[\n",
    "    (qss.df[\"beta_deg\"] == 0)\n",
    "    & (qss.df[\"phi_deg\"] == 17.5)\n",
    "    # & (qss.df[\"chi_deg\"] == 90)\n",
    "    & (qss.df[\"Lt_m\"] == 1000)\n",
    "    & (qss.df[\"vw_mps\"] == 10)\n",
    "].sort_values(\"Ftg_N\", ascending=False)\n",
    "\n",
    "fig, ax = plt.subplots(1, 1, figsize=PARTSIZE)\n",
    "\n",
    "sns.lineplot(\n",
    "    temp, x=\"vr_mps\", y=\"Ftg_N\", style=\"chi_deg\", hue=\"to_delete\", ax=ax, sort=False\n",
    ")\n",
    "ax.grid()\n",
    "set_labels(ax)\n",
    "plt.tight_layout()"
   ]
  },
  {
   "cell_type": "code",
   "execution_count": null,
   "metadata": {},
   "outputs": [],
   "source": [
    "qss.df = qss.df[qss.df[\"to_delete\"] == False]"
   ]
  },
  {
   "cell_type": "code",
   "execution_count": null,
   "metadata": {},
   "outputs": [],
   "source": [
    "qss.df.to_csv(\"..\\\\results\\\\MegAWES_cleaned.csv\")\n"
   ]
  },
  {
   "attachments": {},
   "cell_type": "markdown",
   "metadata": {},
   "source": [
    "# Processing\n",
    "We want to find the optimal state to operate in. So by sorting the values by generated power, we can find the combination of beta, phi, chi, Lt, and vw that yields the highest power. The optimal tether force (at the kite and ground), reeling factor, reeling speed, and power will be saved as `_star` variables in the DataFrame.\n",
    "- [ ] Make sure to already have run the `quasi_steady_state_massless_analysis.ipynb` to compare these results to."
   ]
  },
  {
   "cell_type": "code",
   "execution_count": null,
   "metadata": {},
   "outputs": [],
   "source": [
    "temp = qss.df.sort_values(\"P_W\", ascending=False)\n",
    "qss_star = temp.drop_duplicates(\n",
    "    [\"beta_deg\", \"phi_deg\", \"chi_deg\", \"Lt_m\", \"vw_mps\"],\n",
    "    keep=\"first\",\n",
    "    ignore_index=True,\n",
    ").copy()\n",
    "star_dict = {\n",
    "    \"Ftk_N\": \"Ftk_N_star\",\n",
    "    \"f\": \"f_star\",\n",
    "    \"Ftg_N\": \"Ftg_N_star\",\n",
    "    \"P_W\": \"P_W_star\",\n",
    "    \"vr_mps\": \"vr_mps_star\",\n",
    "}\n",
    "qss_star = qss_star.rename(columns=star_dict)\n",
    "\n",
    "temp = qss_massless.df.sort_values(\"P_W\", ascending=False)\n",
    "qss_massless_star = temp.drop_duplicates(\n",
    "    [\"beta_deg\", \"phi_deg\", \"chi_deg\", \"Lt_m\", \"vw_mps\"],\n",
    "    keep=\"first\",\n",
    "    ignore_index=True,\n",
    ").copy()\n",
    "qss_massless_star = qss_massless_star.rename(columns=star_dict)\n",
    "\n",
    "qss_massless_analytical = pd.read_csv(\"../results/MegAWES_massless_analytical.csv\")\n",
    "qss_massless_analytical_star = pd.read_csv(\n",
    "    \"../results/MegAWES_massless_analytical_star.csv\"\n",
    ")\n"
   ]
  },
  {
   "cell_type": "code",
   "execution_count": null,
   "metadata": {},
   "outputs": [],
   "source": [
    "qss_star[\"param_name\"] = \"MegAWES\"\n",
    "qss_massless_star[\"param_name\"] = \"MegAWES_massless\"\n",
    "qss_massless_analytical_star[\"param_name\"] = \"MegAWES_massless_analytical\"\n",
    "df_massless = pd.concat(\n",
    "    [qss_massless_star, qss_massless_analytical_star], ignore_index=True\n",
    ")\n",
    "df = pd.concat(\n",
    "    [qss_star, qss_massless_star, qss_massless_analytical_star], ignore_index=True\n",
    ")\n"
   ]
  },
  {
   "cell_type": "code",
   "execution_count": null,
   "metadata": {},
   "outputs": [],
   "source": [
    "qss_star.to_csv(\"..\\\\results\\\\MegAWES_star.csv\")\n"
   ]
  },
  {
   "attachments": {},
   "cell_type": "markdown",
   "metadata": {},
   "source": [
    "# Compare analytical and qsm massless"
   ]
  },
  {
   "cell_type": "code",
   "execution_count": null,
   "metadata": {},
   "outputs": [],
   "source": [
    "fig = px.line(\n",
    "    df_massless,\n",
    "    x=\"vw_mps\",\n",
    "    y=\"P_W_star\",\n",
    "    color=\"param_name\",\n",
    "    symbol=\"Lt_m\",\n",
    "    facet_col=\"beta_deg\",\n",
    "    facet_row=\"phi_deg\",\n",
    ")\n",
    "fig.write_image(\"../results/qsm_massless_vs_analytical.png\")\n",
    "fig.show()\n"
   ]
  },
  {
   "attachments": {},
   "cell_type": "markdown",
   "metadata": {},
   "source": [
    "# Plotting"
   ]
  },
  {
   "attachments": {},
   "cell_type": "markdown",
   "metadata": {},
   "source": [
    "### Loyd"
   ]
  },
  {
   "cell_type": "code",
   "execution_count": null,
   "metadata": {},
   "outputs": [],
   "source": [
    "# fFP (reeling factor, tether force, power) graph for massless system for beta and phi\n",
    "# equal to zero and a certain tether length.\n",
    "temp = qss_massless_analytical_star[\n",
    "    (qss_massless_analytical_star[\"beta_deg\"] == 0)\n",
    "    & (qss_massless_analytical_star[\"phi_deg\"] == 0)\n",
    "    & (qss_massless_analytical_star[\"Lt_m\"] == 1000)\n",
    "]\n",
    "\n",
    "fig, axs = plt.subplots(1, 3, figsize=FULLSIZE)\n",
    "\n",
    "for i, y in enumerate([\"f_star\", \"Ftg_N_star\", \"P_W_star\"]):\n",
    "    sns.lineplot(temp, x=\"vw_mps\", y=y, ax=axs[i])\n",
    "    axs[i].grid()\n",
    "\n",
    "set_labels(axs)\n",
    "plt.tight_layout()\n",
    "plt.savefig(\"../results/fFP_Loyd.png\")"
   ]
  },
  {
   "cell_type": "code",
   "execution_count": null,
   "metadata": {},
   "outputs": [],
   "source": [
    "# vr-Ft Loyd\n",
    "fig, ax = plt.subplots(1, 1, figsize=PARTSIZE)\n",
    "sns.lineplot(temp, x=\"vr_mps_star\", y=\"Ftg_N_star\", ax=ax)\n",
    "ax.grid()\n",
    "set_labels(ax)\n",
    "plt.tight_layout()\n",
    "plt.savefig(\"../results/vrFt_Loyd.png\")"
   ]
  },
  {
   "attachments": {},
   "cell_type": "markdown",
   "metadata": {},
   "source": [
    "### Beta and phi"
   ]
  },
  {
   "cell_type": "code",
   "execution_count": null,
   "metadata": {},
   "outputs": [],
   "source": [
    "# fFP graph.\n",
    "temp = qss_massless_analytical_star[(qss_massless_analytical_star[\"Lt_m\"] == 1000)]\n",
    "\n",
    "fig, axs = plt.subplots(1, 3, figsize=FULLSIZE)\n",
    "\n",
    "for i, y in enumerate([\"f_star\", \"Ftg_N_star\", \"P_W_star\"]):\n",
    "    sns.lineplot(temp, x=\"vw_mps\", y=y, hue=\"beta_deg\", style=\"phi_deg\", ax=axs[i])\n",
    "    axs[i].grid()\n",
    "    if i != 2:\n",
    "        axs[i].get_legend().set_visible(False)\n",
    "\n",
    "set_labels(axs)\n",
    "plt.tight_layout()\n",
    "plt.savefig(\"../results/fFP_betaphi.png\")\n"
   ]
  },
  {
   "cell_type": "code",
   "execution_count": null,
   "metadata": {},
   "outputs": [],
   "source": [
    "# vr-Ft\n",
    "# This is a very interesting figure. It plots the ideal vr-Ft graph. If the winch\n",
    "# ensures that the kite stays on this optimal vr-Ft line, it will operate at optimal\n",
    "# (instantaneous) power output. As you can see, the lines for different elevation and\n",
    "# azimuth are on top of each other. So one strategy can be used (when ignoring the\n",
    "# effect of tether length and mass).\n",
    "fig, ax = plt.subplots(1, 1, figsize=PARTSIZE)\n",
    "sns.lineplot(\n",
    "    temp, x=\"vr_mps_star\", y=\"Ftg_N_star\", hue=\"beta_deg\", style=\"phi_deg\", ax=ax\n",
    ")\n",
    "ax.grid()\n",
    "set_labels(ax)\n",
    "plt.tight_layout()\n",
    "plt.savefig(\"../results/vrFt_betaphi.png\")\n"
   ]
  },
  {
   "attachments": {},
   "cell_type": "markdown",
   "metadata": {},
   "source": [
    "## Tether length"
   ]
  },
  {
   "cell_type": "code",
   "execution_count": null,
   "metadata": {},
   "outputs": [],
   "source": [
    "# fFP graph\n",
    "beta_deg_bar = 0\n",
    "phi_deg_bar = 0\n",
    "temp = qss_massless_analytical_star[\n",
    "    (qss_massless_analytical_star[\"beta_deg\"] == beta_deg_bar)\n",
    "    & (qss_massless_analytical_star[\"phi_deg\"] == phi_deg_bar)\n",
    "]\n",
    "\n",
    "fig, axs = plt.subplots(1, 3, figsize=FULLSIZE)\n",
    "fig.suptitle(f\"elevation = {beta_deg_bar} deg, azimuth = {phi_deg_bar} deg\")\n",
    "\n",
    "for i, y in enumerate([\"f_star\", \"Ftg_N_star\", \"P_W_star\"]):\n",
    "    sns.lineplot(temp, x=\"vw_mps\", y=y, hue=\"Lt_m\", ax=axs[i])\n",
    "    axs[i].grid()\n",
    "    if i != 2:\n",
    "        axs[i].get_legend().set_visible(False)\n",
    "\n",
    "set_labels(axs)\n",
    "plt.tight_layout()\n",
    "plt.savefig(\"../results/fFP_Lt.png\")"
   ]
  },
  {
   "cell_type": "code",
   "execution_count": null,
   "metadata": {},
   "outputs": [],
   "source": [
    "# vr-Ft\n",
    "fig, ax = plt.subplots(1, 1, figsize=PARTSIZE)\n",
    "fig.suptitle(f\"elevation = {beta_deg_bar} deg, azimuth = {phi_deg_bar} deg\")\n",
    "\n",
    "sns.lineplot(temp, x=\"vr_mps_star\", y=\"Ftg_N_star\", hue=\"Lt_m\", ax=ax)\n",
    "\n",
    "ax.grid()\n",
    "set_labels(ax)\n",
    "plt.tight_layout()\n",
    "plt.savefig(\"../results/vrFt_Lt.png\")\n"
   ]
  },
  {
   "attachments": {},
   "cell_type": "markdown",
   "metadata": {},
   "source": [
    "### Add mass, variable chi."
   ]
  },
  {
   "cell_type": "code",
   "execution_count": null,
   "metadata": {},
   "outputs": [],
   "source": [
    "# fFP graph\n",
    "beta_deg_bar = 0\n",
    "phi_deg_bar = 0\n",
    "# chi_deg_bar = 90\n",
    "Lt_m_bar = 1000\n",
    "temp = qss_star[\n",
    "    (qss_star[\"Lt_m\"] == Lt_m_bar)\n",
    "    & (qss_star[\"beta_deg\"] == beta_deg_bar)\n",
    "    & (qss_star[\"phi_deg\"] == phi_deg_bar)\n",
    "    # & (qss_star['chi_deg'] == chi_deg_bar)\n",
    "]\n",
    "temp2 = qss_massless_analytical_star[\n",
    "    (qss_massless_analytical_star[\"Lt_m\"] == Lt_m_bar)\n",
    "    & (qss_massless_analytical_star[\"beta_deg\"] == beta_deg_bar)\n",
    "    & (qss_massless_analytical_star[\"phi_deg\"] == phi_deg_bar)\n",
    "]\n",
    "\n",
    "fig, axs = plt.subplots(1, 3, figsize=FULLSIZE)\n",
    "fig.suptitle(\n",
    "    f\"elevation = {beta_deg_bar} deg, azimuth = {phi_deg_bar} deg, tether length = {Lt_m_bar} m\"\n",
    ")\n",
    "\n",
    "for i, y in enumerate([\"f_star\", \"Ftg_N_star\", \"P_W_star\"]):\n",
    "    sns.lineplot(temp2, x=\"vw_mps\", y=y, ax=axs[i], label=\"massless\")\n",
    "    axs[i].lines[0].set_linestyle(\"--\")\n",
    "    sns.lineplot(temp, x=\"vw_mps\", y=y, hue=\"chi_deg\", ax=axs[i])\n",
    "    axs[i].grid()\n",
    "    if i != 2:\n",
    "        axs[i].get_legend().set_visible(False)\n",
    "\n",
    "set_labels(axs)\n",
    "plt.tight_layout()\n",
    "plt.savefig(\"../results/fFP_mass.png\")"
   ]
  },
  {
   "cell_type": "code",
   "execution_count": null,
   "metadata": {},
   "outputs": [],
   "source": [
    "# vr-Ft\n",
    "fig, ax = plt.subplots(1, 1, figsize=PARTSIZE)\n",
    "fig.suptitle(\n",
    "    f\"elevation = {beta_deg_bar} deg, azimuth = {phi_deg_bar} deg, tether length = {Lt_m_bar} m\"\n",
    ")\n",
    "\n",
    "sns.lineplot(temp2, x=\"vr_mps_star\", y=\"Ftg_N_star\", ax=ax, label=\"massless\")\n",
    "ax.lines[0].set_linestyle(\"--\")\n",
    "sns.lineplot(temp, x=\"vr_mps_star\", y=\"Ftg_N_star\", hue=\"chi_deg\", ax=ax)\n",
    "\n",
    "ax.grid()\n",
    "set_labels(ax)\n",
    "plt.tight_layout()\n",
    "plt.savefig(\"../results/vrFt_mass.png\")"
   ]
  },
  {
   "attachments": {},
   "cell_type": "markdown",
   "metadata": {},
   "source": [
    "### With mass, chi=90 but variable beta and phi again.\n",
    "Massless underestimates the effect of beta and phi (right?)"
   ]
  },
  {
   "cell_type": "code",
   "execution_count": null,
   "metadata": {},
   "outputs": [],
   "source": [
    "# fFP graph\n",
    "beta_deg_bar = 0\n",
    "phi_deg_bar = 0\n",
    "phi_deg_max = 18\n",
    "chi_deg_bar = 90\n",
    "Lt_m_bar = 1000\n",
    "temp = qss_star[\n",
    "    (qss_star[\"Lt_m\"] == Lt_m_bar)\n",
    "    # & (qss_star[\"beta_deg\"] == beta_deg_bar)\n",
    "    & (qss_star[\"phi_deg\"] < phi_deg_max)\n",
    "    & (qss_star[\"chi_deg\"] == chi_deg_bar)\n",
    "]\n",
    "temp2 = qss_massless_analytical_star[\n",
    "    (qss_massless_analytical_star[\"Lt_m\"] == Lt_m_bar)\n",
    "    & (qss_massless_analytical_star[\"beta_deg\"] == beta_deg_bar)\n",
    "    & (qss_massless_analytical_star[\"phi_deg\"] == phi_deg_bar)\n",
    "]\n",
    "\n",
    "fig, axs = plt.subplots(1, 3, figsize=FULLSIZE)\n",
    "fig.suptitle(f\"tether length = {Lt_m_bar} m, course angle = {chi_deg_bar} deg\")\n",
    "\n",
    "for i, y in enumerate([\"f_star\", \"Ftg_N_star\", \"P_W_star\"]):\n",
    "    sns.lineplot(temp2, x=\"vw_mps\", y=y, ax=axs[i], label=\"massless downwind\")\n",
    "    axs[i].lines[0].set_linestyle(\"--\")\n",
    "    sns.lineplot(temp, x=\"vw_mps\", y=y, ax=axs[i], hue=\"beta_deg\", style=\"phi_deg\")\n",
    "    axs[i].grid()\n",
    "    if i != 2:\n",
    "        axs[i].get_legend().set_visible(False)\n",
    "\n",
    "set_labels(axs)\n",
    "plt.tight_layout()\n",
    "plt.savefig(\"../results/fFP_mass_betaphi.png\")"
   ]
  },
  {
   "cell_type": "code",
   "execution_count": null,
   "metadata": {},
   "outputs": [],
   "source": [
    "# vr-Ft\n",
    "fig, ax = plt.subplots(1, 1, figsize=PARTSIZE)\n",
    "fig.suptitle(f\"tether length = {Lt_m_bar} m, course angle = {chi_deg_bar} deg\")\n",
    "\n",
    "sns.lineplot(temp2, x=\"vr_mps_star\", y=\"Ftg_N_star\", ax=ax, label=\"massless\")\n",
    "ax.lines[0].set_linestyle(\"--\")\n",
    "sns.lineplot(\n",
    "    temp,\n",
    "    x=\"vr_mps_star\",\n",
    "    y=\"Ftg_N_star\",\n",
    "    ax=ax,\n",
    "    hue=\"beta_deg\",\n",
    "    style=\"phi_deg\",\n",
    ")\n",
    "\n",
    "ax.grid()\n",
    "set_labels(ax)\n",
    "plt.tight_layout()\n",
    "plt.savefig(\"../results/vrFt_mass_betaphi.png\")"
   ]
  },
  {
   "attachments": {},
   "cell_type": "markdown",
   "metadata": {},
   "source": [
    "### Also for changing chi"
   ]
  },
  {
   "cell_type": "code",
   "execution_count": null,
   "metadata": {},
   "outputs": [],
   "source": [
    "# fFP graph\n",
    "beta_deg_bar = 30\n",
    "phi_deg_bar = 17.5\n",
    "# chi_deg_bar = 90\n",
    "Lt_m_bar = 1000\n",
    "temp = qss_star[\n",
    "    (qss_star[\"Lt_m\"] == Lt_m_bar)\n",
    "    & (qss_star[\"beta_deg\"] == beta_deg_bar)\n",
    "    & (qss_star[\"phi_deg\"] == phi_deg_bar)\n",
    "    # & (qss_star['chi_deg'] == chi_deg_bar)\n",
    "]\n",
    "temp2 = qss_massless_analytical_star[\n",
    "    (qss_massless_analytical_star[\"Lt_m\"] == Lt_m_bar)\n",
    "    & (qss_massless_analytical_star[\"beta_deg\"] == beta_deg_bar)\n",
    "    & (qss_massless_analytical_star[\"phi_deg\"] == phi_deg_bar)\n",
    "]\n",
    "\n",
    "fig, axs = plt.subplots(1, 3, figsize=FULLSIZE)\n",
    "fig.suptitle(\n",
    "    f\"elevation = {beta_deg_bar} deg, azimuth = {phi_deg_bar} deg, tether length = {Lt_m_bar} m\"\n",
    ")\n",
    "\n",
    "for i, y in enumerate([\"f_star\", \"Ftg_N_star\", \"P_W_star\"]):\n",
    "    sns.lineplot(temp2, x=\"vw_mps\", y=y, ax=axs[i], label=\"massless\")\n",
    "    axs[i].lines[0].set_linestyle(\"--\")\n",
    "    sns.lineplot(temp, x=\"vw_mps\", y=y, hue=\"chi_deg\", ax=axs[i])\n",
    "    axs[i].grid()\n",
    "    if i != 2:\n",
    "        axs[i].get_legend().set_visible(False)\n",
    "\n",
    "set_labels(axs)\n",
    "plt.tight_layout()\n",
    "plt.savefig(\"../results/fFP_mass_chi.png\")"
   ]
  },
  {
   "cell_type": "code",
   "execution_count": null,
   "metadata": {},
   "outputs": [],
   "source": [
    "# vr-Ft\n",
    "fig, ax = plt.subplots(1, 1, figsize=PARTSIZE)\n",
    "fig.suptitle(\n",
    "    f\"elevation = {beta_deg_bar} deg, azimuth = {phi_deg_bar} deg, tether length = {Lt_m_bar} m\"\n",
    ")\n",
    "\n",
    "sns.lineplot(temp2, x=\"vr_mps_star\", y=\"Ftg_N_star\", ax=ax, label=\"massless\")\n",
    "ax.lines[0].set_linestyle(\"--\")\n",
    "sns.lineplot(temp, x=\"vr_mps_star\", y=\"Ftg_N_star\", hue=\"chi_deg\", ax=ax)\n",
    "\n",
    "ax.grid()\n",
    "set_labels(ax)\n",
    "plt.tight_layout()\n",
    "plt.savefig(\"../results/vrFt_mass_chi.png\")"
   ]
  },
  {
   "attachments": {},
   "cell_type": "markdown",
   "metadata": {},
   "source": [
    "## Alternative view: also have a category for wind speed."
   ]
  },
  {
   "cell_type": "code",
   "execution_count": null,
   "metadata": {},
   "outputs": [],
   "source": [
    "# vr-Ft\n",
    "fig, ax = plt.subplots(1, 1, figsize=FULLSIZE)\n",
    "fig.suptitle(\n",
    "    f\"elevation = {beta_deg_bar} deg, azimuth = {phi_deg_bar} deg, tether length = {Lt_m_bar} m\"\n",
    ")\n",
    "\n",
    "sns.lineplot(temp2, x=\"vr_mps_star\", y=\"Ftg_N_star\", ax=ax, label=\"massless\")\n",
    "ax.lines[0].set_linestyle(\"--\")\n",
    "sns.lineplot(\n",
    "    temp, x=\"vr_mps_star\", y=\"Ftg_N_star\", style=\"chi_deg\", ax=ax, legend=False\n",
    ")\n",
    "sns.lineplot(temp, x=\"vr_mps_star\", y=\"Ftg_N_star\", hue=\"vw_mps\", ax=ax, legend=False)\n",
    "sns.scatterplot(\n",
    "    temp, x=\"vr_mps_star\", y=\"Ftg_N_star\", style=\"chi_deg\", hue=\"vw_mps\", ax=ax\n",
    ")\n",
    "\n",
    "plt.legend(loc=\"upper left\", bbox_to_anchor=(1.05, 1.025))\n",
    "ax.grid()\n",
    "set_labels(ax)\n",
    "plt.tight_layout()\n",
    "plt.savefig(\"../results/vrFt_mass_chi_vw.png\")"
   ]
  },
  {
   "attachments": {},
   "cell_type": "markdown",
   "metadata": {},
   "source": [
    "### Making the average operating condition\n",
    "See my MSc report"
   ]
  },
  {
   "cell_type": "code",
   "execution_count": null,
   "metadata": {},
   "outputs": [],
   "source": [
    "def least_squares(X, y):\n",
    "    return np.dot(np.dot(np.linalg.inv(np.dot(X.transpose(), X)), X.transpose()), y)\n"
   ]
  },
  {
   "cell_type": "code",
   "execution_count": null,
   "metadata": {},
   "outputs": [],
   "source": [
    "# Fitting to the curve between 0.5e6 and 1e6.\n",
    "beta_deg_bar = 30\n",
    "phi_deg_bar = 17.5\n",
    "chi_deg_bar = 90\n",
    "Lt_m_bar = 1000\n",
    "temp = qss_star[\n",
    "    (qss_star[\"Lt_m\"] == Lt_m_bar)\n",
    "    & (qss_star[\"beta_deg\"] == beta_deg_bar)\n",
    "    & (qss_star[\"phi_deg\"] == phi_deg_bar)\n",
    "    & (qss_star[\"chi_deg\"] == chi_deg_bar)\n",
    "]\n",
    "\n",
    "Fmin = 0.5e6\n",
    "Fmax = 1.0e6\n",
    "fit_index = temp[\"Ftg_N_star\"][\n",
    "    (temp[\"Ftg_N_star\"] > Fmin)\n",
    "    & (temp[\"Ftg_N_star\"] < Fmax)\n",
    "    & (~temp[\"Ftg_N_star\"].isna())\n",
    "].index\n",
    "\n",
    "vr = temp.loc[fit_index, \"vr_mps_star\"].values\n",
    "vr2 = vr**2\n",
    "ones = np.ones_like(vr)\n",
    "X = np.asarray([ones, vr, vr2]).transpose()\n",
    "\n",
    "y = temp.loc[fit_index, \"Ftg_N_star\"].values\n",
    "theta_hat = least_squares(X, y)\n",
    "theta_hat"
   ]
  },
  {
   "cell_type": "code",
   "execution_count": null,
   "metadata": {},
   "outputs": [],
   "source": [
    "def abc(a, b, c):\n",
    "    return (-b + np.sqrt(b**2 - 4 * a * c)) / (2 * a)"
   ]
  },
  {
   "cell_type": "code",
   "execution_count": null,
   "metadata": {},
   "outputs": [],
   "source": [
    "# Need to find the vr for which we reach Flim.\n",
    "vr_power_lim = abc(theta_hat[2], theta_hat[1], theta_hat[0] - Fmax)\n",
    "print(vr_power_lim, Fmax, vr_power_lim * Fmax / 1e6)"
   ]
  },
  {
   "cell_type": "code",
   "execution_count": null,
   "metadata": {},
   "outputs": [],
   "source": [
    "def my_winch_strategy(vr):\n",
    "    F_star = theta_hat[0] + theta_hat[1] * vr + theta_hat[2] * vr**2\n",
    "\n",
    "    F_star[vr < 0] = Fmin\n",
    "    F_star = np.maximum(F_star, Fmin)\n",
    "    # F_star = np.clip(F_star, Fmin, Fmax)\n",
    "    return F_star"
   ]
  },
  {
   "cell_type": "code",
   "execution_count": null,
   "metadata": {},
   "outputs": [],
   "source": [
    "# vr-Ft\n",
    "beta_deg_bar = 30\n",
    "phi_deg_bar = 17.5\n",
    "chi_deg_bar = 90\n",
    "Lt_m_bar = 1000\n",
    "temp = qss_star[\n",
    "    (qss_star[\"Lt_m\"] == Lt_m_bar)\n",
    "    & (qss_star[\"beta_deg\"] == beta_deg_bar)\n",
    "    & (qss_star[\"phi_deg\"] == phi_deg_bar)\n",
    "    & (qss_star[\"chi_deg\"] == chi_deg_bar)\n",
    "]\n",
    "temp2 = qss_massless_analytical_star[\n",
    "    (qss_massless_analytical_star[\"Lt_m\"] == Lt_m_bar)\n",
    "    & (qss_massless_analytical_star[\"beta_deg\"] == beta_deg_bar)\n",
    "    & (qss_massless_analytical_star[\"phi_deg\"] == phi_deg_bar)\n",
    "]\n",
    "\n",
    "fig, ax = plt.subplots(1, 1, figsize=PARTSIZE)\n",
    "fig.suptitle(\n",
    "    f\"elevation = {beta_deg_bar} deg, azimuth = {phi_deg_bar} deg, \\ntether length = {Lt_m_bar} m, course angle = {chi_deg_bar} deg\"\n",
    ")\n",
    "\n",
    "sns.lineplot(temp2, x=\"vr_mps_star\", y=\"Ftg_N_star\", ax=ax, label=\"massless\")\n",
    "ax.lines[0].set_linestyle(\"--\")\n",
    "sns.lineplot(temp, x=\"vr_mps_star\", y=\"Ftg_N_star\", ax=ax, label=\"non-massless\")\n",
    "ax.grid()\n",
    "plt.tight_layout()\n",
    "set_labels(ax)\n",
    "plt.savefig(\"../results/vrFt_phase1.png\")\n",
    "\n",
    "\n",
    "# Add tether force and power limit -> phase2.\n",
    "plt.hlines(1e6, -6, 8, color=\"purple\", linestyles=\"--\", label=\"Ft_max\")\n",
    "vr_pos = np.linspace(0.1, 8, 100)\n",
    "sns.lineplot(\n",
    "    x=vr_pos,\n",
    "    y=Fmax * vr_power_lim / vr_pos,\n",
    "    label=f\"power limit of {Fmax*vr_power_lim/1e6:.2} MW\",\n",
    ")\n",
    "plt.tight_layout()\n",
    "plt.ylim([0, 2.5e6])\n",
    "plt.xlim([-3, 8])\n",
    "plt.savefig(\"../results/vrFt_phase2.png\")\n",
    "\n",
    "\n",
    "vr = np.linspace(-6, 8, 100)\n",
    "sns.lineplot(x=vr, y=my_winch_strategy(vr), label=\"winch control with pull-up\")\n",
    "plt.ylim([0, 2.5e6])\n",
    "plt.xlim([-3, 8])\n",
    "\n",
    "plt.legend()\n",
    "# set_labels(ax)\n",
    "plt.tight_layout()\n",
    "plt.savefig(\"../results/vrFt_2phase_with_pull-up.png\")"
   ]
  },
  {
   "attachments": {},
   "cell_type": "markdown",
   "metadata": {},
   "source": [
    "# Linear model around 0.5e6 tether force.\n",
    "While in the worst-case condition: flying upwards"
   ]
  },
  {
   "cell_type": "code",
   "execution_count": null,
   "metadata": {},
   "outputs": [],
   "source": [
    "fig, ax = plt.subplots(1, 1, figsize=PARTSIZE)\n",
    "\n",
    "\n",
    "beta_deg_bar = 30\n",
    "phi_deg_bar = 35\n",
    "chi_deg_bar = 180\n",
    "Lt_m_bar = 1500\n",
    "df_optimal = qss_star[\n",
    "    (qss_star[\"Lt_m\"] == Lt_m_bar)\n",
    "    & (qss_star[\"beta_deg\"] == beta_deg_bar)\n",
    "    & (qss_star[\"phi_deg\"] == phi_deg_bar)\n",
    "    & (qss_star[\"chi_deg\"] == chi_deg_bar)\n",
    "]\n",
    "\n",
    "fig.suptitle(\n",
    "    f\"elevation = {beta_deg_bar} deg, azimuth = {phi_deg_bar} deg, \\ntether length = {Lt_m_bar} m, course angle = {chi_deg_bar} deg\"\n",
    ")\n",
    "\n",
    "\n",
    "sns.lineplot(\n",
    "    df_optimal,\n",
    "    x=\"vr_mps_star\",\n",
    "    y=\"Ftg_N_star\",\n",
    ")\n",
    "ax.legend([\"Optimal\"])\n",
    "\n",
    "qss_bar = qss.df[\n",
    "    (qss.df[\"Lt_m\"] == Lt_m_bar)\n",
    "    & (qss.df[\"beta_deg\"] == beta_deg_bar)\n",
    "    & (qss.df[\"phi_deg\"] == phi_deg_bar)\n",
    "    & (qss.df[\"chi_deg\"] == chi_deg_bar)\n",
    "]\n",
    "\n",
    "temp = qss_bar[\n",
    "    (qss_bar[\"vr_mps\"] > -6)\n",
    "    & (qss_bar[\"vr_mps\"] < 8)\n",
    "    & (qss_bar[\"Ftg_N\"] > 0)\n",
    "    & (qss_bar[\"Ftg_N\"] < 2.5e6)\n",
    "]\n",
    "\n",
    "cmap = plt.cm.get_cmap(\"coolwarm\")\n",
    "normalize = plt.Normalize(vmin=temp[\"P_W\"].min(), vmax=temp[\"P_W\"].max())\n",
    "\n",
    "sns.scatterplot(\n",
    "    temp,\n",
    "    x=\"vr_mps\",\n",
    "    y=\"Ftg_N\",\n",
    "    hue=\"P_W\",\n",
    "    palette=cmap,\n",
    "    ax=ax,\n",
    "    # marker=',',\n",
    "    edgecolor=None,\n",
    "    legend=False,\n",
    ")\n",
    "\n",
    "plt.ylim([0, 2.5e6])\n",
    "plt.xlim([-6, 8])\n",
    "\n",
    "sm = plt.cm.ScalarMappable(cmap=cmap, norm=normalize)\n",
    "sm.set_array([])\n",
    "clb = plt.colorbar(sm, ax=ax)\n",
    "clb.ax.set_title(var_to_label[\"P_W\"])\n",
    "\n",
    "ax.grid()\n",
    "set_labels(ax)\n",
    "plt.tight_layout()\n",
    "plt.savefig(\"../results/vrFt_SI.png\")"
   ]
  },
  {
   "cell_type": "code",
   "execution_count": null,
   "metadata": {},
   "outputs": [],
   "source": [
    "# Making the same graph in plotly is very easy.\n",
    "px.scatter(temp, x=\"vr_mps\", y=\"Ftg_N\", color=\"P_W\")\n"
   ]
  },
  {
   "cell_type": "code",
   "execution_count": null,
   "metadata": {},
   "outputs": [],
   "source": [
    "# Least-squares fit around 0.0.5e6 tether force.\n",
    "temp = qss_bar[\n",
    "    (qss_bar[\"vr_mps\"] > -6)\n",
    "    & (qss_bar[\"vr_mps\"] < 8)\n",
    "    & (qss_bar[\"Ftg_N\"] > 0.45e6)\n",
    "    & (qss_bar[\"Ftg_N\"] < 0.55e6)\n",
    "    # & (temp_nona['P_W'] > 0)\n",
    "]\n",
    "\n",
    "temp_nona = temp.dropna()\n",
    "\n",
    "# Building the X matrix. (input data)\n",
    "vr = temp_nona[\"vr_mps\"].values\n",
    "vr2 = vr**2\n",
    "vw = temp_nona[\"vw_mps\"].values\n",
    "vw2 = vw**2\n",
    "ones = np.ones_like(vr)\n",
    "X = np.asarray([ones, vr, vw]).transpose()\n",
    "# X = np.asarray([ones, vr, vw, vr**2, vw**2]).transpose()\n",
    "\n",
    "# Outputs.\n",
    "y = temp_nona[\"Ftg_N\"].values\n",
    "\n",
    "# Least-squares.\n",
    "theta_hat = least_squares(X, y)\n",
    "theta_hat"
   ]
  },
  {
   "cell_type": "code",
   "execution_count": null,
   "metadata": {},
   "outputs": [],
   "source": [
    "fig, ax = plt.subplots(1, 1, figsize=PARTSIZE)\n",
    "fig.suptitle(\n",
    "    f\"elevation = {beta_deg_bar} deg, azimuth = {phi_deg_bar} deg, \\ntether length = {Lt_m_bar} m, course angle = {chi_deg_bar} deg\"\n",
    ")\n",
    "\n",
    "temp = qss_bar[\n",
    "    (qss_bar[\"vr_mps\"] > -6)\n",
    "    & (qss_bar[\"vr_mps\"] < 8)\n",
    "    & (qss_bar[\"Ftg_N\"] > 0)\n",
    "    & (qss_bar[\"Ftg_N\"] < 2.5e6)\n",
    "    # & (qss_bar['vw_mps'] % 5 == 0)\n",
    "]\n",
    "\n",
    "for vw, df in temp.groupby(\"vw_mps\"):\n",
    "    df = df.sort_values(by=\"Ftg_N\")\n",
    "    plt.plot(df[\"vr_mps\"], df[\"Ftg_N\"], label=vw)\n",
    "\n",
    "ax.legend(bbox_to_anchor=(1.1, 1.05), title=\"vw_mps\")\n",
    "\n",
    "plt.gca().set_prop_cycle(None)\n",
    "for vw in temp[\"vw_mps\"].unique():\n",
    "    vr = np.linspace(-6, 8, 100)\n",
    "    Ft_hat = (\n",
    "        theta_hat[0]\n",
    "        + theta_hat[1] * vr\n",
    "        + theta_hat[2] * vw\n",
    "        # + theta_hat[3] * vr**2\n",
    "        # + theta_hat[4] * vw**2\n",
    "    )\n",
    "    plt.plot(vr, Ft_hat, \"--\")\n",
    "\n",
    "plt.ylim([0, 2.5e6])\n",
    "plt.xlim([-6, 8])\n",
    "\n",
    "plt.xlabel(\"vr_mps\")\n",
    "plt.ylabel(\"Ftg_N\")\n",
    "\n",
    "ax.grid()\n",
    "set_labels(ax)\n",
    "plt.tight_layout()\n",
    "plt.savefig(\"../results/vrFt_SI_fit.png\")"
   ]
  }
 ],
 "metadata": {
  "kernelspec": {
   "display_name": "MSc_thesis",
   "language": "python",
   "name": "python3"
  },
  "language_info": {
   "codemirror_mode": {
    "name": "ipython",
    "version": 3
   },
   "file_extension": ".py",
   "mimetype": "text/x-python",
   "name": "python",
   "nbconvert_exporter": "python",
   "pygments_lexer": "ipython3",
   "version": "3.11.0"
  },
  "orig_nbformat": 4,
  "vscode": {
   "interpreter": {
    "hash": "3451243aeb7002a9f0aad858ea655f9b0a50f6f53e4444736783dba4b0fd9969"
   }
  }
 },
 "nbformat": 4,
 "nbformat_minor": 2
}
