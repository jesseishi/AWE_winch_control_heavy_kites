{
 "cells": [
  {
   "cell_type": "code",
   "execution_count": null,
   "metadata": {},
   "outputs": [],
   "source": [
    "# Imports\n",
    "import numpy as np\n",
    "import pandas as pd\n",
    "import plotly.express as px\n",
    "import plotly.graph_objects as go\n",
    "from plotly.subplots import make_subplots\n",
    "from plotly.colors import DEFAULT_PLOTLY_COLORS as default_colors\n",
    "import seaborn as sns\n",
    "import matplotlib.pyplot as plt\n",
    "\n",
    "from QSSBuilder import QSSBuilder\n"
   ]
  },
  {
   "attachments": {},
   "cell_type": "markdown",
   "metadata": {},
   "source": [
    "# Calculating steady states."
   ]
  },
  {
   "cell_type": "code",
   "execution_count": null,
   "metadata": {},
   "outputs": [],
   "source": [
    "qss = QSSBuilder.from_csv(\"MegAWES\")\n"
   ]
  },
  {
   "cell_type": "code",
   "execution_count": null,
   "metadata": {},
   "outputs": [],
   "source": [
    "qss.add_steady_states(\n",
    "    {\n",
    "        \"vw_mps\": np.unique(np.linspace(0, 30, 13)),\n",
    "        \"Lt_m\": np.unique(np.linspace(500, 1500, 3, dtype=int)),\n",
    "        \"phi_deg\": [0.0, 17.5],\n",
    "        \"beta_deg\": [0.0, 30],\n",
    "        \"chi_deg\": np.unique(np.linspace(0, 180, 5, dtype=int)),\n",
    "        # TODO: Smarter way to find different Ftk_N that work than looping over all values.\n",
    "        # Use dtype int for the merge into an existing DataFrame to be less error-prone.\n",
    "        # Otherwise it sometimes couldn't match two floats with each other. Integer\n",
    "        # precision is also more than enough here.\n",
    "        # \"Ftk_N\": np.unique(np.logspace(1, 7, 103, dtype=int)),\n",
    "        \"Ftk_N\": np.unique(np.arange(10, 1e7, 2500, dtype=int)),\n",
    "    }\n",
    ")\n",
    "qss.save_df()\n"
   ]
  },
  {
   "cell_type": "code",
   "execution_count": null,
   "metadata": {},
   "outputs": [],
   "source": [
    "qss_massless = QSSBuilder.from_csv(\"MegAWES_massless\")\n"
   ]
  },
  {
   "cell_type": "code",
   "execution_count": null,
   "metadata": {},
   "outputs": [],
   "source": [
    "qss_massless.add_steady_states(\n",
    "    {\n",
    "        \"vw_mps\": np.unique(np.linspace(0, 30, 13)),\n",
    "        \"Lt_m\": np.unique(np.linspace(500, 1500, 3, dtype=int)),\n",
    "        \"phi_deg\": [0.0, 17.5],\n",
    "        \"beta_deg\": [0.0, 30],\n",
    "        \"chi_deg\": np.unique(np.linspace(0, 180, 5, dtype=int)),\n",
    "        # TODO: Smarter way to find different Ftk_N that work than looping over all values.\n",
    "        # Use dtype int for the merge into an existing DataFrame to be less error-prone.\n",
    "        # Otherwise it sometimes couldn't match two floats with each other. Integer\n",
    "        # precision is also more than enough here.\n",
    "        # \"Ftk_N\": np.unique(np.logspace(1, 7, 103, dtype=int)),\n",
    "        \"Ftk_N\": np.unique(np.arange(10, 1e7, 2500, dtype=int)),\n",
    "    }\n",
    ")\n",
    "qss_massless.save_df()\n"
   ]
  },
  {
   "cell_type": "markdown",
   "metadata": {},
   "source": [
    "# Processing"
   ]
  },
  {
   "cell_type": "code",
   "execution_count": null,
   "metadata": {},
   "outputs": [],
   "source": [
    "temp = qss.df.sort_values(\"P_W\", ascending=False)\n",
    "qss_star = temp.drop_duplicates(\n",
    "    [\"beta_deg\", \"phi_deg\", \"chi_deg\", \"Lt_m\", \"vw_mps\"],\n",
    "    keep=\"first\",\n",
    "    ignore_index=True,\n",
    ").copy()\n",
    "star_dict = {\n",
    "    \"Ftk_N\": \"Ftk_N_star\",\n",
    "    \"f\": \"f_star\",\n",
    "    \"Ftg_N\": \"Ftg_N_star\",\n",
    "    \"P_W\": \"P_W_star\",\n",
    "    \"vr_mps\": \"vr_mps_star\",\n",
    "}\n",
    "qss_star = qss_star.rename(columns=star_dict)\n",
    "\n",
    "temp = qss_massless.df.sort_values(\"P_W\", ascending=False)\n",
    "qss_massless_star = temp.drop_duplicates(\n",
    "    [\"beta_deg\", \"phi_deg\", \"chi_deg\", \"Lt_m\", \"vw_mps\"],\n",
    "    keep=\"first\",\n",
    "    ignore_index=True,\n",
    ").copy()\n",
    "qss_massless_star = qss_massless_star.rename(columns=star_dict)\n",
    "\n",
    "qss_massless_analytical = pd.read_csv(\"../results/MegAWES_massless_analytical.csv\")\n",
    "qss_massless_analytical_star = pd.read_csv(\n",
    "    \"../results/MegAWES_massless_analytical_star.csv\"\n",
    ")"
   ]
  },
  {
   "cell_type": "code",
   "execution_count": null,
   "metadata": {},
   "outputs": [],
   "source": [
    "qss_star[\"param_name\"] = \"MegAWES\"\n",
    "qss_massless_star[\"param_name\"] = \"MegAWES_massless\"\n",
    "qss_massless_analytical_star[\"param_name\"] = \"MegAWES_massless_analytical\"\n",
    "df_massless = pd.concat(\n",
    "    [qss_massless_star, qss_massless_analytical_star], ignore_index=True\n",
    ")\n",
    "df = pd.concat(\n",
    "    [qss_star, qss_massless_star, qss_massless_analytical_star], ignore_index=True\n",
    ")\n"
   ]
  },
  {
   "attachments": {},
   "cell_type": "markdown",
   "metadata": {},
   "source": [
    "# Compare analytical and qsm massless"
   ]
  },
  {
   "cell_type": "code",
   "execution_count": null,
   "metadata": {},
   "outputs": [],
   "source": [
    "import my_plotly_themes\n"
   ]
  },
  {
   "cell_type": "code",
   "execution_count": null,
   "metadata": {},
   "outputs": [],
   "source": [
    "fig = px.line(\n",
    "    df_massless,\n",
    "    x=\"vw_mps\",\n",
    "    y=\"P_W_star\",\n",
    "    color=\"param_name\",\n",
    "    symbol=\"Lt_m\",\n",
    "    facet_col=\"beta_deg\",\n",
    "    facet_row=\"phi_deg\",\n",
    ")\n",
    "# fig.write_image(\"../results/qsm_massless_vs_analytical.png\")\n",
    "fig.show()\n"
   ]
  },
  {
   "attachments": {},
   "cell_type": "markdown",
   "metadata": {},
   "source": [
    "# Plotting"
   ]
  },
  {
   "cell_type": "code",
   "execution_count": null,
   "metadata": {},
   "outputs": [],
   "source": [
    "# Linewidth in latex is 15.75 cm, which is 15.75/2.54 inch. I make it a bit larger which\n",
    "# makes the text a bit smaller, but the figure a little bigger.\n",
    "FULLSIZE = (15.75 / 2.54 + 3, 4)\n",
    "PARTSIZE = (0.7 * (15.75 / 2.54 + 3), 4)\n",
    "\n",
    "# From awe_workshop.\n",
    "# # Configure the default plotting settings\n",
    "# size=13\n",
    "# params = {'legend.fontsize': 'large',\n",
    "#           'figure.figsize': (8,5),\n",
    "#           'axes.labelsize': size,\n",
    "#           'axes.titlesize': size,\n",
    "#           'xtick.labelsize': size*0.85,\n",
    "#           'ytick.labelsize': size*0.85,\n",
    "#           'axes.titlepad': 25}\n",
    "# plt.rcParams.update(params)"
   ]
  },
  {
   "cell_type": "markdown",
   "metadata": {},
   "source": [
    "### Loyd"
   ]
  },
  {
   "cell_type": "code",
   "execution_count": null,
   "metadata": {},
   "outputs": [],
   "source": [
    "# fFP graph for massless system for beta and phi equal to zero and a certain tether\n",
    "# length.\n",
    "temp = qss_massless_analytical_star[\n",
    "    (qss_massless_analytical_star[\"beta_deg\"] == 0)\n",
    "    & (qss_massless_analytical_star[\"phi_deg\"] == 0)\n",
    "    & (qss_massless_analytical_star[\"Lt_m\"] == 1000)\n",
    "]\n",
    "\n",
    "fig, axs = plt.subplots(1, 3, figsize=FULLSIZE)\n",
    "\n",
    "for i, y in enumerate([\"f_star\", \"Ftg_N_star\", \"P_W_star\"]):\n",
    "    sns.lineplot(temp, x=\"vw_mps\", y=y, ax=axs[i])\n",
    "    axs[i].grid()\n",
    "\n",
    "plt.tight_layout()\n",
    "plt.savefig(\"../results/fFP_Loyd.png\")"
   ]
  },
  {
   "cell_type": "code",
   "execution_count": null,
   "metadata": {},
   "outputs": [],
   "source": [
    "# vr-Ft Loyd\n",
    "fig, ax = plt.subplots(1, 1, figsize=PARTSIZE)\n",
    "sns.lineplot(temp, x=\"vr_mps_star\", y=\"Ftg_N_star\", ax=ax)\n",
    "ax.grid()\n",
    "plt.tight_layout()\n",
    "plt.savefig(\"../results/vrFt_Loyd.png\")"
   ]
  },
  {
   "attachments": {},
   "cell_type": "markdown",
   "metadata": {},
   "source": [
    "### Beta and phi"
   ]
  },
  {
   "cell_type": "code",
   "execution_count": null,
   "metadata": {},
   "outputs": [],
   "source": [
    "# fFP graph for massless system for beta and phi equal to zero and a certain tether\n",
    "# length.\n",
    "temp = qss_massless_analytical_star[(qss_massless_analytical_star[\"Lt_m\"] == 1000)]\n",
    "\n",
    "fig, axs = plt.subplots(1, 3, figsize=FULLSIZE)\n",
    "\n",
    "for i, y in enumerate([\"f_star\", \"Ftg_N_star\", \"P_W_star\"]):\n",
    "    sns.lineplot(temp, x=\"vw_mps\", y=y, hue=\"beta_deg\", style=\"phi_deg\", ax=axs[i])\n",
    "    axs[i].grid()\n",
    "    if i != 2:\n",
    "        axs[i].get_legend().set_visible(False)\n",
    "\n",
    "plt.tight_layout()\n",
    "plt.savefig(\"../results/fFP_betaphi.png\")\n"
   ]
  },
  {
   "cell_type": "code",
   "execution_count": null,
   "metadata": {},
   "outputs": [],
   "source": [
    "# vr-Ft Loyd\n",
    "fig, ax = plt.subplots(1, 1, figsize=PARTSIZE)\n",
    "sns.lineplot(\n",
    "    temp, x=\"vr_mps_star\", y=\"Ftg_N_star\", hue=\"beta_deg\", style=\"phi_deg\", ax=ax\n",
    ")\n",
    "ax.grid()\n",
    "plt.tight_layout()\n",
    "plt.savefig(\"../results/vrFt_betaphi.png\")\n"
   ]
  },
  {
   "attachments": {},
   "cell_type": "markdown",
   "metadata": {},
   "source": [
    "## Tether length"
   ]
  },
  {
   "cell_type": "code",
   "execution_count": null,
   "metadata": {},
   "outputs": [],
   "source": [
    "# fFP graph for massless system for beta and phi equal to zero and a certain tether\n",
    "# length.\n",
    "beta_deg_bar = 0\n",
    "phi_deg_bar = 0\n",
    "temp = qss_massless_analytical_star[\n",
    "    (qss_massless_analytical_star[\"beta_deg\"] == beta_deg_bar)\n",
    "    & (qss_massless_analytical_star[\"phi_deg\"] == phi_deg_bar)\n",
    "]\n",
    "\n",
    "fig, axs = plt.subplots(1, 3, figsize=FULLSIZE)\n",
    "fig.suptitle(f\"{beta_deg_bar=}, {phi_deg_bar=}\")\n",
    "\n",
    "for i, y in enumerate([\"f_star\", \"Ftg_N_star\", \"P_W_star\"]):\n",
    "    sns.lineplot(temp, x=\"vw_mps\", y=y, hue=\"Lt_m\", ax=axs[i])\n",
    "    axs[i].grid()\n",
    "    if i != 2:\n",
    "        axs[i].get_legend().set_visible(False)\n",
    "\n",
    "plt.tight_layout()\n",
    "plt.savefig(\"../results/fFP_Lt.png\")"
   ]
  },
  {
   "cell_type": "code",
   "execution_count": null,
   "metadata": {},
   "outputs": [],
   "source": [
    "# vr-Ft Loyd\n",
    "fig, ax = plt.subplots(1, 1, figsize=PARTSIZE)\n",
    "fig.suptitle(f\"{beta_deg_bar=}, {phi_deg_bar=}\")\n",
    "\n",
    "sns.lineplot(temp, x=\"vr_mps_star\", y=\"Ftg_N_star\", hue=\"Lt_m\", ax=ax)\n",
    "\n",
    "ax.grid()\n",
    "plt.tight_layout()\n",
    "plt.savefig(\"../results/vrFt_Lt.png\")\n"
   ]
  },
  {
   "attachments": {},
   "cell_type": "markdown",
   "metadata": {},
   "source": [
    "### Add mass, variable chi."
   ]
  },
  {
   "cell_type": "code",
   "execution_count": null,
   "metadata": {},
   "outputs": [],
   "source": [
    "# fFP graph\n",
    "beta_deg_bar = 0\n",
    "phi_deg_bar = 0\n",
    "# chi_deg_bar = 90\n",
    "Lt_m_bar = 1000\n",
    "temp = qss_star[\n",
    "    (qss_star[\"Lt_m\"] == Lt_m_bar)\n",
    "    & (qss_star[\"beta_deg\"] == beta_deg_bar)\n",
    "    & (qss_star[\"phi_deg\"] == phi_deg_bar)\n",
    "    # & (qss_star['chi_deg'] == chi_deg_bar)\n",
    "]\n",
    "temp2 = qss_massless_analytical_star[\n",
    "    (qss_massless_analytical_star[\"Lt_m\"] == Lt_m_bar)\n",
    "    & (qss_massless_analytical_star[\"beta_deg\"] == beta_deg_bar)\n",
    "    & (qss_massless_analytical_star[\"phi_deg\"] == phi_deg_bar)\n",
    "]\n",
    "\n",
    "fig, axs = plt.subplots(1, 3, figsize=FULLSIZE)\n",
    "fig.suptitle(f\"{beta_deg_bar=}, {phi_deg_bar=}, {Lt_m_bar=}\")\n",
    "\n",
    "for i, y in enumerate([\"f_star\", \"Ftg_N_star\", \"P_W_star\"]):\n",
    "    sns.lineplot(temp2, x=\"vw_mps\", y=y, ax=axs[i], label=\"massless\")\n",
    "    axs[i].lines[0].set_linestyle(\"--\")\n",
    "    sns.lineplot(temp, x=\"vw_mps\", y=y, hue=\"chi_deg\", ax=axs[i])\n",
    "    axs[i].grid()\n",
    "    if i != 2:\n",
    "        axs[i].get_legend().set_visible(False)\n",
    "\n",
    "plt.tight_layout()\n",
    "plt.savefig(\"../results/fFP_mass.png\")"
   ]
  },
  {
   "cell_type": "code",
   "execution_count": null,
   "metadata": {},
   "outputs": [],
   "source": [
    "# vr-Ft\n",
    "fig, ax = plt.subplots(1, 1, figsize=PARTSIZE)\n",
    "fig.suptitle(f\"{beta_deg_bar=}, {phi_deg_bar=}, {Lt_m_bar=}\")\n",
    "\n",
    "sns.lineplot(temp2, x=\"vr_mps_star\", y=\"Ftg_N_star\", ax=ax, label=\"massless\")\n",
    "ax.lines[0].set_linestyle(\"--\")\n",
    "sns.lineplot(temp, x=\"vr_mps_star\", y=\"Ftg_N_star\", hue=\"chi_deg\", ax=ax)\n",
    "\n",
    "ax.grid()\n",
    "plt.tight_layout()\n",
    "plt.savefig(\"../results/vrFt_mass.png\")"
   ]
  },
  {
   "attachments": {},
   "cell_type": "markdown",
   "metadata": {},
   "source": [
    "### With mass, chi=90 but variable beta and phi again.\n",
    "Massless underestimates the effect of beta and phi (right?)"
   ]
  },
  {
   "cell_type": "code",
   "execution_count": null,
   "metadata": {},
   "outputs": [],
   "source": [
    "# fFP graph\n",
    "beta_deg_bar = 30\n",
    "phi_deg_bar = 17.5\n",
    "chi_deg_bar = 90\n",
    "Lt_m_bar = 1000\n",
    "temp = qss_star[\n",
    "    (qss_star[\"Lt_m\"] == Lt_m_bar)\n",
    "    & (qss_star[\"beta_deg\"] == beta_deg_bar)\n",
    "    & (qss_star[\"phi_deg\"] == phi_deg_bar)\n",
    "    & (qss_star[\"chi_deg\"] == chi_deg_bar)\n",
    "]\n",
    "temp2 = qss_massless_analytical_star[\n",
    "    (qss_massless_analytical_star[\"Lt_m\"] == Lt_m_bar)\n",
    "    & (qss_massless_analytical_star[\"beta_deg\"] == beta_deg_bar)\n",
    "    & (qss_massless_analytical_star[\"phi_deg\"] == phi_deg_bar)\n",
    "]\n",
    "\n",
    "fig, axs = plt.subplots(1, 3, figsize=FULLSIZE)\n",
    "fig.suptitle(f\"{beta_deg_bar=}, {phi_deg_bar=}, {chi_deg_bar=}, {Lt_m_bar=}\")\n",
    "\n",
    "for i, y in enumerate([\"f_star\", \"Ftg_N_star\", \"P_W_star\"]):\n",
    "    sns.lineplot(temp2, x=\"vw_mps\", y=y, ax=axs[i], label=\"massless\")\n",
    "    axs[i].lines[0].set_linestyle(\"--\")\n",
    "    sns.lineplot(temp, x=\"vw_mps\", y=y, ax=axs[i])\n",
    "    axs[i].grid()\n",
    "    if i != 2:\n",
    "        axs[i].get_legend().set_visible(False)\n",
    "\n",
    "plt.tight_layout()\n",
    "plt.savefig(\"../results/fFP_mass_betaphi.png\")"
   ]
  },
  {
   "cell_type": "code",
   "execution_count": null,
   "metadata": {},
   "outputs": [],
   "source": [
    "# vr-Ft\n",
    "fig, ax = plt.subplots(1, 1, figsize=PARTSIZE)\n",
    "fig.suptitle(f\"{beta_deg_bar=}, {phi_deg_bar=}, {Lt_m_bar=}\")\n",
    "\n",
    "sns.lineplot(temp2, x=\"vr_mps_star\", y=\"Ftg_N_star\", ax=ax, label=\"massless\")\n",
    "ax.lines[0].set_linestyle(\"--\")\n",
    "sns.lineplot(temp, x=\"vr_mps_star\", y=\"Ftg_N_star\", ax=ax, label=\"heavy\")\n",
    "\n",
    "ax.grid()\n",
    "plt.tight_layout()\n",
    "plt.savefig(\"../results/vrFt_mass_betaphi.png\")"
   ]
  },
  {
   "attachments": {},
   "cell_type": "markdown",
   "metadata": {},
   "source": [
    "### Making the average operating condition"
   ]
  },
  {
   "cell_type": "code",
   "execution_count": null,
   "metadata": {},
   "outputs": [],
   "source": [
    "# Fitting to the curve:\n",
    "# theta_hat = (X.T X)^-1 X.T y\n",
    "# temp2['ones'] = 1\n",
    "# temp2['vr2_m2ps2_star'] = temp2['vr_mps_star']**2\n",
    "# X = temp2[['ones', 'vr_mps_star', 'vr2_m2ps2_star']].values\n",
    "Fmin = 0.25e6\n",
    "Fmax = 1.0e6\n",
    "fit_index = temp[\"Ftg_N_star\"][\n",
    "    (temp[\"Ftg_N_star\"] > Fmin)\n",
    "    & (temp[\"Ftg_N_star\"] < Fmax)\n",
    "    & (~temp[\"Ftg_N_star\"].isna())\n",
    "].index\n",
    "\n",
    "vr = temp.loc[fit_index, \"vr_mps_star\"].values\n",
    "vr2 = vr**2\n",
    "ones = np.ones_like(vr)\n",
    "X = np.asarray([ones, vr, vr2]).transpose()\n",
    "\n",
    "y = temp.loc[fit_index, \"Ftg_N_star\"].values\n",
    "theta_hat = np.dot(np.dot(np.linalg.inv(np.dot(X.transpose(), X)), X.transpose()), y)\n",
    "theta_hat"
   ]
  },
  {
   "cell_type": "code",
   "execution_count": null,
   "metadata": {},
   "outputs": [],
   "source": [
    "def abc(a, b, c):\n",
    "    return (-b + np.sqrt(b**2 - 4 * a * c)) / (2 * a)"
   ]
  },
  {
   "cell_type": "code",
   "execution_count": null,
   "metadata": {},
   "outputs": [],
   "source": [
    "# Need to find the vr for which we reach Flim.\n",
    "vr_power_lim = abc(theta_hat[2], theta_hat[1], theta_hat[0] - Fmax)\n",
    "print(vr_power_lim, Fmax, vr_power_lim * Fmax / 1e6)"
   ]
  },
  {
   "cell_type": "code",
   "execution_count": null,
   "metadata": {},
   "outputs": [],
   "source": [
    "def optimal_winch(vr):\n",
    "    F_star = theta_hat[0] + theta_hat[1] * vr + theta_hat[2] * vr**2\n",
    "\n",
    "    F_star[vr < 0] = Fmin\n",
    "    F_star = np.maximum(F_star, Fmin)\n",
    "    # F_star = np.clip(F_star, Fmin, Fmax)\n",
    "    return F_star"
   ]
  },
  {
   "cell_type": "code",
   "execution_count": null,
   "metadata": {},
   "outputs": [],
   "source": [
    "# vr-Ft\n",
    "fig, ax = plt.subplots(1, 1, figsize=PARTSIZE)\n",
    "fig.suptitle(f\"{beta_deg_bar=}, {phi_deg_bar=}, {chi_deg_bar=}, {Lt_m_bar=}\")\n",
    "\n",
    "sns.lineplot(temp2, x=\"vr_mps_star\", y=\"Ftg_N_star\", ax=ax, label=\"massless\")\n",
    "ax.lines[0].set_linestyle(\"--\")\n",
    "sns.lineplot(temp, x=\"vr_mps_star\", y=\"Ftg_N_star\", ax=ax, label=\"heavy\")\n",
    "vr = np.linspace(-6, 8, 100)\n",
    "sns.lineplot(x=vr, y=optimal_winch(vr), label=\"winch control with pull-up\")\n",
    "\n",
    "plt.ylim([0, 2.5e6])\n",
    "plt.xlim([-6, 8])\n",
    "\n",
    "\n",
    "ax.grid()\n",
    "plt.tight_layout()\n",
    "plt.savefig(\"../results/vrFt_mass_betaphi_fit.png\")\n",
    "\n",
    "\n",
    "vr_pos = np.linspace(0.1, 8, 100)\n",
    "sns.lineplot(\n",
    "    x=vr_pos,\n",
    "    y=Fmax * vr_power_lim / vr_pos,\n",
    "    label=f\"power limit of {Fmax*vr_power_lim/1e6:.2} MW\",\n",
    ")\n",
    "plt.hlines(1e6, -6, 8, color=\"purple\", linestyles=\"--\", label=\"Ft_max\")\n",
    "plt.legend()\n",
    "plt.savefig(\"../results/vrFt_mass_betaphi_fit_power.png\")"
   ]
  },
  {
   "cell_type": "code",
   "execution_count": null,
   "metadata": {},
   "outputs": [],
   "source": [
    "temp\n"
   ]
  },
  {
   "attachments": {},
   "cell_type": "markdown",
   "metadata": {},
   "source": [
    "# System identification"
   ]
  },
  {
   "cell_type": "code",
   "execution_count": null,
   "metadata": {},
   "outputs": [],
   "source": [
    "beta_deg_bar = 30\n",
    "phi_deg_bar = 17.5\n",
    "chi_deg_bar = 90\n",
    "Lt_m_bar = 1000\n",
    "qss_bar = qss.df[\n",
    "    (qss.df[\"Lt_m\"] == Lt_m_bar)\n",
    "    & (qss.df[\"beta_deg\"] == beta_deg_bar)\n",
    "    & (qss.df[\"phi_deg\"] == phi_deg_bar)\n",
    "    & (qss.df[\"chi_deg\"] == chi_deg_bar)\n",
    "]"
   ]
  },
  {
   "cell_type": "code",
   "execution_count": null,
   "metadata": {},
   "outputs": [],
   "source": [
    "# TODO: move SI from above to here.\n",
    "beta_deg_bar = 30\n",
    "phi_deg_bar = 17.5\n",
    "chi_deg_bar = 90\n",
    "Lt_m_bar = 1000\n",
    "temp = qss.df[\n",
    "    (qss.df[\"Lt_m\"] == Lt_m_bar)\n",
    "    & (qss.df[\"beta_deg\"] == beta_deg_bar)\n",
    "    & (qss.df[\"phi_deg\"] == phi_deg_bar)\n",
    "    & (qss.df[\"chi_deg\"] == chi_deg_bar)\n",
    "]\n",
    "\n",
    "temp_nona = temp.dropna()\n",
    "\n",
    "# Building the X matrix. (input data)\n",
    "vr = temp_nona[\"vr_mps\"].values\n",
    "vr2 = vr**2\n",
    "vw = temp_nona[\"vw_mps\"].values\n",
    "vw2 = vw**2\n",
    "ones = np.ones_like(vr)\n",
    "X = np.asarray([ones, vr, vr2, vw, vw2]).transpose()\n",
    "\n",
    "# Outputs.\n",
    "y = temp_nona[\"Ftg_N\"].values\n",
    "\n",
    "# Least-squares.\n",
    "theta_hat = np.dot(np.dot(np.linalg.inv(np.dot(X.transpose(), X)), X.transpose()), y)\n",
    "theta_hat"
   ]
  },
  {
   "cell_type": "code",
   "execution_count": null,
   "metadata": {},
   "outputs": [],
   "source": [
    "# Doing the same with seaborn is really difficult.\n",
    "fig, ax = plt.subplots(1, 1, figsize=PARTSIZE)\n",
    "\n",
    "df_optimal = qss_star[\n",
    "    (qss_star[\"Lt_m\"] == Lt_m_bar)\n",
    "    & (qss_star[\"beta_deg\"] == beta_deg_bar)\n",
    "    & (qss_star[\"phi_deg\"] == phi_deg_bar)\n",
    "    & (qss_star[\"chi_deg\"] == chi_deg_bar)\n",
    "]\n",
    "\n",
    "sns.lineplot(\n",
    "    df_optimal,\n",
    "    x=\"vr_mps_star\",\n",
    "    y=\"Ftg_N_star\",\n",
    ")\n",
    "ax.legend([\"Optimal\"])\n",
    "\n",
    "beta_deg_bar = 30\n",
    "phi_deg_bar = 17.5\n",
    "chi_deg_bar = 90\n",
    "Lt_m_bar = 1000\n",
    "temp = qss_bar[\n",
    "    (qss_bar[\"vr_mps\"] > -6)\n",
    "    & (qss_bar[\"vr_mps\"] < 8)\n",
    "    & (qss_bar[\"Ftg_N\"] > 0)\n",
    "    & (qss_bar[\"Ftg_N\"] < 2.5e6)\n",
    "]\n",
    "\n",
    "cmap = plt.cm.get_cmap(\"coolwarm\")\n",
    "normalize = plt.Normalize(vmin=temp[\"P_W\"].min(), vmax=temp[\"P_W\"].max())\n",
    "\n",
    "sns.scatterplot(\n",
    "    temp,\n",
    "    x=\"vr_mps\",\n",
    "    y=\"Ftg_N\",\n",
    "    hue=\"P_W\",\n",
    "    palette=cmap,\n",
    "    ax=ax,\n",
    "    # marker=',',\n",
    "    edgecolor=None,\n",
    "    legend=False,\n",
    ")\n",
    "\n",
    "plt.ylim([0, 2.5e6])\n",
    "plt.xlim([-6, 8])\n",
    "\n",
    "sm = plt.cm.ScalarMappable(cmap=cmaps[\"coolwarm\"], norm=normalize)\n",
    "sm.set_array([])\n",
    "clb = plt.colorbar(sm)\n",
    "clb.ax.set_title(\"P_W\")\n",
    "\n",
    "ax.grid()\n",
    "plt.tight_layout()\n",
    "plt.savefig(\"../results/vrFt_SI.png\")"
   ]
  },
  {
   "cell_type": "code",
   "execution_count": null,
   "metadata": {},
   "outputs": [],
   "source": [
    "# Making the same graph in plotly is very easy.\n",
    "px.scatter(temp, x=\"vr_mps\", y=\"Ftg_N\", color=\"P_W\")\n"
   ]
  },
  {
   "cell_type": "code",
   "execution_count": null,
   "metadata": {},
   "outputs": [],
   "source": [
    "px.scatter(temp, x=\"vr_mps\", y=\"Ftg_N\", color=\"vw_mps\")\n"
   ]
  },
  {
   "cell_type": "code",
   "execution_count": null,
   "metadata": {},
   "outputs": [],
   "source": [
    "temp = qss_bar[\n",
    "    (qss_bar[\"vr_mps\"] > -6)\n",
    "    & (qss_bar[\"vr_mps\"] < 8)\n",
    "    & (qss_bar[\"Ftg_N\"] > 0.20e6)\n",
    "    & (qss_bar[\"Ftg_N\"] < 0.30e6)\n",
    "    # & (temp_nona['P_W'] > 0)\n",
    "]\n",
    "\n",
    "# px.scatter(temp, x=\"vr_mps\", y=\"Ftg_N\", color=\"P_W\")  # Very good for intuition about what a winch controller should do.\n",
    "# TODO: Make a graph showing why current strategy is not good (fixed Ft) for certain wind speed.\n",
    "# px.scatter(temp, x=\"vr_mps\", y=\"vw_mps\", color=\"Ftg_N\")  # Quite a straight line when using few Ft points.\n",
    "px.scatter(temp, x=\"vr_mps\", y=\"Ftg_N\")"
   ]
  },
  {
   "cell_type": "code",
   "execution_count": null,
   "metadata": {},
   "outputs": [],
   "source": [
    "temp = qss_bar[\n",
    "    (qss_bar[\"vr_mps\"] > -6)\n",
    "    & (qss_bar[\"vr_mps\"] < 8)\n",
    "    & (qss_bar[\"Ftg_N\"] > 0.20e6)\n",
    "    & (qss_bar[\"Ftg_N\"] < 0.30e6)\n",
    "    # & (temp_nona['P_W'] > 0)\n",
    "]\n",
    "\n",
    "temp_nona = temp.dropna()\n",
    "\n",
    "# Building the X matrix. (input data)\n",
    "vr = temp_nona[\"vr_mps\"].values\n",
    "vr2 = vr**2\n",
    "vw = temp_nona[\"vw_mps\"].values\n",
    "vw2 = vw**2\n",
    "ones = np.ones_like(vr)\n",
    "X = np.asarray([ones, vr, vw]).transpose()\n",
    "# X = np.asarray([ones, vr, vw, vr**2, vw**2]).transpose()\n",
    "\n",
    "# Outputs.\n",
    "y = temp_nona[\"Ftg_N\"].values\n",
    "\n",
    "# Least-squares.\n",
    "theta_hat = np.dot(np.dot(np.linalg.inv(np.dot(X.transpose(), X)), X.transpose()), y)\n",
    "theta_hat"
   ]
  },
  {
   "cell_type": "code",
   "execution_count": null,
   "metadata": {},
   "outputs": [],
   "source": [
    "# Doing the same with seaborn is really difficult.\n",
    "fig, ax = plt.subplots(1, 1, figsize=PARTSIZE)\n",
    "\n",
    "# df_optimal = qss_star[\n",
    "#     (qss_star[\"Lt_m\"] == Lt_m_bar)\n",
    "#     & (qss_star[\"beta_deg\"] == beta_deg_bar)\n",
    "#     & (qss_star[\"phi_deg\"] == phi_deg_bar)\n",
    "#     & (qss_star[\"chi_deg\"] == chi_deg_bar)\n",
    "# ]\n",
    "\n",
    "# sns.lineplot(\n",
    "#     df_optimal,\n",
    "#     x=\"vr_mps_star\",\n",
    "#     y=\"Ftg_N_star\",\n",
    "# )\n",
    "# ax.legend([\"Optimal\"])\n",
    "\n",
    "beta_deg_bar = 30\n",
    "phi_deg_bar = 17.5\n",
    "chi_deg_bar = 90\n",
    "Lt_m_bar = 1000\n",
    "temp = qss_bar[\n",
    "    (qss_bar[\"vr_mps\"] > -6)\n",
    "    & (qss_bar[\"vr_mps\"] < 8)\n",
    "    & (qss_bar[\"Ftg_N\"] > 0)\n",
    "    & (qss_bar[\"Ftg_N\"] < 2.5e6)\n",
    "]\n",
    "\n",
    "# cmap = plt.cm.get_cmap(\"coolwarm\")\n",
    "# normalize = plt.Normalize(vmin=temp[\"P_W\"].min(), vmax=temp[\"P_W\"].max())\n",
    "\n",
    "# sns.scatterplot(\n",
    "#     temp,\n",
    "#     x=\"vr_mps\",\n",
    "#     y=\"Ftg_N\",\n",
    "#     hue=\"P_W\",\n",
    "#     palette=cmap,\n",
    "#     ax=ax,\n",
    "#     # marker=',',\n",
    "#     edgecolor=None,\n",
    "#     legend=False,\n",
    "# )\n",
    "\n",
    "for (vw, df) in temp.groupby(\"vw_mps\"):\n",
    "    df = df.sort_values(by=\"Ftg_N\")\n",
    "    plt.plot(df[\"vr_mps\"], df[\"Ftg_N\"], label=vw)\n",
    "\n",
    "ax.legend(bbox_to_anchor=(1.1, 1.05), title=\"wind speed\")\n",
    "\n",
    "plt.gca().set_prop_cycle(None)\n",
    "for vw in temp[\"vw_mps\"].unique():\n",
    "    vr = np.linspace(-6, 8, 100)\n",
    "    Ft_hat = (\n",
    "        theta_hat[0]\n",
    "        + theta_hat[1] * vr\n",
    "        + theta_hat[2] * vw\n",
    "        # + theta_hat[3] * vr**2\n",
    "        # + theta_hat[4] * vw**2\n",
    "    )\n",
    "    plt.plot(vr, Ft_hat, \"--\")\n",
    "\n",
    "plt.ylim([0, 2.5e6])\n",
    "plt.xlim([-6, 8])\n",
    "\n",
    "# sm = plt.cm.ScalarMappable(cmap=cmaps[\"coolwarm\"], norm=normalize)\n",
    "# sm.set_array([])\n",
    "# clb = plt.colorbar(sm)\n",
    "# clb.ax.set_title(\"P_W\")\n",
    "\n",
    "plt.xlabel(\"vr_mps\")\n",
    "plt.ylabel(\"Ftg_N\")\n",
    "\n",
    "ax.grid()\n",
    "plt.tight_layout()\n",
    "plt.savefig(\"../results/vrFt_SI_fit.png\")"
   ]
  },
  {
   "attachments": {},
   "cell_type": "markdown",
   "metadata": {},
   "source": [
    "## Using Plotly\n",
    "It seemed super nice at first plotly express is great but with subplots I gave up. You can't use plotly expess anymore and then need to write a lot of code and the margins get screwed up (overlapping labels and figures) and it just not fitting on the width that I want (that you have to specify in pixels instead of cm) because margins around the figure are quite big."
   ]
  },
  {
   "attachments": {},
   "cell_type": "markdown",
   "metadata": {},
   "source": [
    "### Loyd"
   ]
  },
  {
   "cell_type": "code",
   "execution_count": null,
   "metadata": {},
   "outputs": [],
   "source": [
    "# Dictionary for plotly to translate variable names to labels.\n",
    "# This is actually really nice.\n",
    "var_to_label = {\n",
    "    \"beta_deg\": \"elevation [deg]\",\n",
    "    \"phi_deg\": \"azimuth [deg]\",\n",
    "    \"vr_mps_star\": \"reeling speed [m/s]\",\n",
    "    \"f_star\": \"reeling factor [-]\",\n",
    "    \"Ftg_N_star\": \"tether force ground [N]\",\n",
    "    \"P_W_star\": \"power output [W]\",\n",
    "    \"vw_mps\": \"wind speed [m/s]\",\n",
    "}\n"
   ]
  },
  {
   "cell_type": "code",
   "execution_count": null,
   "metadata": {},
   "outputs": [],
   "source": [
    "# fFP graph for massless system for beta and phi equal to zero and a certain tether\n",
    "# length.\n",
    "temp = qss_massless_analytical_star[\n",
    "    (qss_massless_analytical_star[\"beta_deg\"] == 0)\n",
    "    & (qss_massless_analytical_star[\"phi_deg\"] == 0)\n",
    "    & (qss_massless_analytical_star[\"Lt_m\"] == 1000)\n",
    "]\n",
    "\n",
    "fig = make_subplots(rows=1, cols=4)\n",
    "\n",
    "for i, y in enumerate([\"f_star\", \"Ftg_N_star\", \"P_W_star\"]):\n",
    "    fig.add_trace(\n",
    "        go.Scatter(\n",
    "            x=temp[\"vw_mps\"],\n",
    "            y=temp[y],\n",
    "        ),\n",
    "        row=1,\n",
    "        col=i + 1,\n",
    "    )\n",
    "\n",
    "\n",
    "fig.show()"
   ]
  },
  {
   "cell_type": "code",
   "execution_count": null,
   "metadata": {},
   "outputs": [],
   "source": [
    "# vr_Ft graph for massless system for beta and phi equal to zero and a certain tether\n",
    "# length.\n",
    "temp = qss_massless_analytical_star[\n",
    "    (qss_massless_analytical_star[\"beta_deg\"] == 0)\n",
    "    & (qss_massless_analytical_star[\"phi_deg\"] == 0)\n",
    "    & (qss_massless_analytical_star[\"Lt_m\"] == 1000)\n",
    "]\n",
    "fig = px.line(\n",
    "    temp,\n",
    "    x=\"vr_mps_star\",\n",
    "    y=\"Ftg_N_star\",\n",
    "    labels=var_to_label,\n",
    ")\n",
    "fig.show()"
   ]
  },
  {
   "cell_type": "code",
   "execution_count": null,
   "metadata": {},
   "outputs": [],
   "source": [
    "fig.write_image(\"../results/vrFt_Loyd.png\")"
   ]
  },
  {
   "attachments": {},
   "cell_type": "markdown",
   "metadata": {},
   "source": [
    "### Elevation and azimuth"
   ]
  },
  {
   "cell_type": "code",
   "execution_count": null,
   "metadata": {},
   "outputs": [],
   "source": [
    "# Changing beta and phi.\n",
    "temp = qss_massless_analytical_star[\n",
    "    qss_massless_analytical_star[\"Lt_m\"] == 1000\n",
    "].sort_values(\"vw_mps\")\n",
    "\n",
    "\n",
    "# Works when in columns but to fit on one page its totally squished.\n",
    "# When in rows the ylabels overlap.\n",
    "fig = make_subplots(\n",
    "    rows=3,\n",
    "    cols=1,\n",
    "    shared_xaxes=True,\n",
    "    # Needed to have enough margin to display ylabel. Should be automatic.\n",
    "    # horizontal_spacing=0.15,\n",
    ")\n",
    "\n",
    "for i, y in enumerate([\"f_star\", \"Ftg_N_star\", \"P_W_star\"]):\n",
    "    color_i = 0\n",
    "\n",
    "    for beta_deg in np.unique(temp[\"beta_deg\"]):\n",
    "        for phi_deg in np.unique(temp[\"phi_deg\"]):\n",
    "            temp2 = temp[(temp[\"beta_deg\"] == beta_deg) & (temp[\"phi_deg\"] == phi_deg)]\n",
    "\n",
    "            fig.add_trace(\n",
    "                go.Scatter(\n",
    "                    x=temp2[\"vw_mps\"],\n",
    "                    y=temp2[y],\n",
    "                    line=dict(color=default_colors[color_i]),\n",
    "                    # Only show legend of one subplot to get only three entries.\n",
    "                    showlegend=(i == 0),\n",
    "                    name=f\"{beta_deg}, {phi_deg}\",\n",
    "                ),\n",
    "                col=1,\n",
    "                row=i + 1,\n",
    "            )\n",
    "\n",
    "            color_i += 1\n",
    "\n",
    "    fig.update_yaxes(title_text=var_to_label[y], col=1, row=i + 1)\n",
    "\n",
    "fig.update_xaxes(title_text=var_to_label[\"vw_mps\"], col=1, row=3)\n",
    "fig.update_layout(\n",
    "    legend_title_text=f\"{var_to_label['beta_deg']}, {var_to_label['phi_deg']}\",\n",
    "    yaxis={\"automargin\": True},\n",
    ")\n",
    "fig.show()\n",
    "\n",
    "\n",
    "# Abuse plotly.express\n",
    "# Don't have labels.\n",
    "# figures = []\n",
    "# for i, y in enumerate([\"f_star\", \"Ftg_N_star\", \"P_W_star\"]):\n",
    "#     figures.append(\n",
    "#         px.line(\n",
    "#             temp,\n",
    "#             x=\"vw_mps\",\n",
    "#             y=y,\n",
    "#             color=\"beta_deg\",\n",
    "#             symbol=\"phi_deg\",\n",
    "#             labels=var_to_label,\n",
    "#         )\n",
    "#     )\n",
    "\n",
    "\n",
    "# fig = make_subplots(rows=1, cols=len(figures))\n",
    "# for i, figure in enumerate(figures):\n",
    "#     for trace in range(len(figure[\"data\"])):\n",
    "#         fig.append_trace(figure[\"data\"][trace], row=1, col=i+1)\n",
    "\n",
    "# fig.show()\n",
    "\n",
    "# fig_all = go.Figure(data=fig1.data + fig2.data + fig3.data)\n",
    "# fig_all.show()\n"
   ]
  },
  {
   "cell_type": "code",
   "execution_count": null,
   "metadata": {},
   "outputs": [],
   "source": [
    "import plotly.io as pio\n",
    "\n",
    "pio.kaleido.default_width\n"
   ]
  },
  {
   "cell_type": "code",
   "execution_count": null,
   "metadata": {},
   "outputs": [],
   "source": [
    "# I can also put the figures next to each other in latex with subcaptions.\n",
    "# So just save three smaller figures.\n",
    "for i, y in enumerate([\"f_star\", \"Ftg_N_star\", \"P_W_star\"]):\n",
    "    fig = px.line(\n",
    "        temp,\n",
    "        x=\"vw_mps\",\n",
    "        y=y,\n",
    "        color=\"beta_deg\",\n",
    "        symbol=\"phi_deg\",\n",
    "        labels=var_to_label,\n",
    "    )\n",
    "\n",
    "    if i == 2:\n",
    "        fig.update_layout(legend=dict(yanchor=\"top\", y=0.99, xanchor=\"left\", x=0.01))\n",
    "    else:\n",
    "        fig.update_layout(showlegend=False)\n",
    "\n",
    "    fig.show()\n",
    "\n",
    "    # With this width the figures become totally squished.\n",
    "    fig.write_image(\n",
    "        f\"../results/fFP_betaphi_{i}.png\",\n",
    "        width=int(pio.kaleido.default_width / 3),\n",
    "    )"
   ]
  },
  {
   "cell_type": "code",
   "execution_count": null,
   "metadata": {},
   "outputs": [],
   "source": [
    "fig.write_image(\"../results/fFP_betaphi.png\")\n"
   ]
  },
  {
   "cell_type": "code",
   "execution_count": null,
   "metadata": {},
   "outputs": [],
   "source": [
    "# Changing beta and phi.\n",
    "temp = qss_massless_analytical_star[\n",
    "    qss_massless_analytical_star[\"Lt_m\"] == 1000\n",
    "].sort_values(\"vr_mps_star\")\n",
    "\n",
    "fig = px.line(\n",
    "    temp,\n",
    "    x=\"vr_mps_star\",\n",
    "    y=\"Ftg_N_star\",\n",
    "    color=\"beta_deg\",\n",
    "    symbol=\"phi_deg\",\n",
    "    labels=var_to_label,\n",
    ")\n",
    "fig.show()\n",
    "# Very cool to see that a change in force due to a change in beta/phi is equivalent to a\n",
    "# change in windspeed.\n"
   ]
  },
  {
   "cell_type": "code",
   "execution_count": null,
   "metadata": {},
   "outputs": [],
   "source": [
    "fig.write_image(\"../results/vrFt_betaphi.png\")"
   ]
  },
  {
   "attachments": {},
   "cell_type": "markdown",
   "metadata": {},
   "source": [
    "# OLD OLD OLD OLD"
   ]
  },
  {
   "attachments": {},
   "cell_type": "markdown",
   "metadata": {},
   "source": [
    "# Cleaning the data\n",
    "\n",
    "I saw that there were some anomalies when plotting the Power or tether force over reeling factor. Clearly there were some outliers. By sorting each state by 'f' and then seeing where there is a larger than normal difference in Ftg_N, these datapoints can be taken out.\n",
    "\n",
    "# !!!! This method only works once !!!! it doesn't work if you append to the DataFrame!\n",
    "# Better to do Ftg_N.diff / f.diff() and take out values that don't fall smoothly on that line."
   ]
  },
  {
   "cell_type": "code",
   "execution_count": null,
   "metadata": {},
   "outputs": [],
   "source": [
    "# TODO: make this also into a python class and save as a separate csv.\n",
    "# TODO: Needed? when looking at df_star I think it's actually fine already.\n"
   ]
  },
  {
   "cell_type": "code",
   "execution_count": null,
   "metadata": {},
   "outputs": [],
   "source": [
    "# # Imports\n",
    "# import pandas as pd\n",
    "# # import seaborn as sns\n",
    "# import plotly.express as px\n",
    "# import plotly.graph_objects as go\n"
   ]
  },
  {
   "cell_type": "code",
   "execution_count": null,
   "metadata": {},
   "outputs": [],
   "source": [
    "# # Check if data looks ok.\n",
    "# df = qss.df.loc[\n",
    "#     (qss.df['beta_deg'] == 0)\n",
    "#     & (qss.df['phi_deg'] == 0)\n",
    "#     & (qss.df['chi_deg'] == 180)\n",
    "#     & (qss.df['Lt_m'] == 1500)\n",
    "#     & (qss.df['vw_mps'] == 10)\n",
    "#     # & (qss.df['P_W'] > -1e6)\n",
    "# ].sort_values(by='vr_mps')\n",
    "\n",
    "# fig = px.line(df, x='vr_mps', y='Ftg_N', color='vw_mps', markers=True, symbol='chi_deg')\n",
    "# fig.show()\n"
   ]
  },
  {
   "cell_type": "code",
   "execution_count": null,
   "metadata": {},
   "outputs": [],
   "source": [
    "# df['d_Ftg_N_df'] = df['Ftg_N'].diff() / df['f'].diff()\n",
    "# df['d_Ftg_N_df_diff'] = df['d_Ftg_N_df'].diff().diff().diff().diff()\n",
    "# fig = px.line(df, x='f', y='d_Ftg_N_df_diff', color='vw_mps', markers=True, symbol='beta_deg')\n",
    "# fig.show()"
   ]
  },
  {
   "cell_type": "code",
   "execution_count": null,
   "metadata": {},
   "outputs": [],
   "source": [
    "# df.drop(df.loc[np.isclose(df['Ftg_N_diff'], -50000, atol=1)].index)\n"
   ]
  },
  {
   "cell_type": "code",
   "execution_count": null,
   "metadata": {},
   "outputs": [],
   "source": [
    "# qss_temp.df.shape\n"
   ]
  },
  {
   "cell_type": "code",
   "execution_count": null,
   "metadata": {},
   "outputs": [],
   "source": [
    "# indices_to_delete = []\n",
    "\n",
    "# for beta_deg in qss_temp.df['beta_deg'].unique():\n",
    "#     for phi_deg in qss_temp.df['phi_deg'].unique():\n",
    "#         for chi_deg in qss_temp.df['chi_deg'].unique():\n",
    "#             for Lt_m in qss_temp.df['Lt_m'].unique():\n",
    "#                 for vw_mps in qss_temp.df['vw_mps'].unique():\n",
    "#                     df = qss_temp.df[\n",
    "#                         (qss_temp.df['beta_deg'] == beta_deg)\n",
    "#                         & (qss_temp.df['phi_deg'] == phi_deg)\n",
    "#                         & (qss_temp.df['chi_deg'] == chi_deg)\n",
    "#                         & (qss_temp.df['Lt_m'] == Lt_m)\n",
    "#                         & (qss_temp.df['vw_mps'] == vw_mps)\n",
    "#                     ].sort_values(by='f')\n",
    "\n",
    "#                     df['Ftg_N_diff'] = df['Ftg_N'].diff()\n",
    "#                     indices_to_delete.append(df.loc[~np.isclose(df['Ftg_N_diff'], -50000, atol=1)].index)\n"
   ]
  },
  {
   "cell_type": "code",
   "execution_count": null,
   "metadata": {},
   "outputs": [],
   "source": [
    "# indices_to_delete\n"
   ]
  },
  {
   "cell_type": "code",
   "execution_count": null,
   "metadata": {},
   "outputs": [],
   "source": [
    "# for idx in indices_to_delete:\n",
    "#     qss_temp.df.drop(idx, inplace=True)\n"
   ]
  },
  {
   "cell_type": "code",
   "execution_count": null,
   "metadata": {},
   "outputs": [],
   "source": [
    "# qss.df.shape\n"
   ]
  },
  {
   "cell_type": "code",
   "execution_count": null,
   "metadata": {},
   "outputs": [],
   "source": [
    "# # Check if that helped.\n",
    "# df = qss_temp.df.loc[\n",
    "#     # (qss_temp.df['beta_deg'] == 15)\n",
    "#     (qss_temp.df['phi_deg'] == 0)\n",
    "#     & (qss_temp.df['chi_deg'] == 135)\n",
    "#     & (qss_temp.df['Lt_m'] == 1500)\n",
    "#     # & (qss_temp.df['vw_mps'] == 15)\n",
    "#     # & (qss.df['P_W'] > -1e6)\n",
    "# ].sort_values(by='f')\n",
    "\n",
    "# fig = px.line(df, x='f', y='Ftg_N', color='vw_mps', markers=True, symbol='beta_deg')\n",
    "# fig.show()\n"
   ]
  },
  {
   "cell_type": "code",
   "execution_count": null,
   "metadata": {},
   "outputs": [],
   "source": [
    "# Finding the best power for all states.\n",
    "temp = qss.df.sort_values(\"P_W\", ascending=False)\n",
    "qss_star = temp.drop_duplicates(\n",
    "    [\"beta_deg\", \"phi_deg\", \"chi_deg\", \"Lt_m\", \"vw_mps\"], keep=\"first\"\n",
    ")\n",
    "\n",
    "# temp = qss_massless.df.sort_values('P_W', ascending=False)\n",
    "# qss_massless_star = temp.drop_duplicates(['beta_deg', 'phi_deg', 'chi_deg', 'Lt_m', 'vw_mps'], keep='first')\n",
    "\n",
    "# temp = qss_massless_tetherless.df.sort_values('P_W', ascending=False)\n",
    "# qss_massless_tetherless_star = temp.drop_duplicates(['beta_deg', 'phi_deg', 'chi_deg', 'Lt_m', 'vw_mps'], keep='first')\n",
    "\n",
    "# temp = qss_tetherdrag.df.sort_values('P_W', ascending=False)\n",
    "# qss_tetherdrag_star = temp.drop_duplicates(['beta_deg', 'phi_deg', 'chi_deg', 'Lt_m', 'vw_mps'], keep='first')"
   ]
  },
  {
   "cell_type": "code",
   "execution_count": null,
   "metadata": {},
   "outputs": [],
   "source": [
    "# Combine.\n",
    "# TODO.\n"
   ]
  },
  {
   "attachments": {},
   "cell_type": "markdown",
   "metadata": {},
   "source": [
    "# Plotting"
   ]
  },
  {
   "cell_type": "code",
   "execution_count": null,
   "metadata": {},
   "outputs": [],
   "source": [
    "# Very interesting. For beta=phi=0, massless and with mass are almost identical!\n",
    "beta_bar = 0\n",
    "phi_bar = 0\n",
    "\n",
    "df = qss_star.loc[\n",
    "    (qss_star[\"beta_deg\"] == beta_bar)\n",
    "    & (qss_star[\"phi_deg\"] == phi_bar)\n",
    "    & (qss_star[\"chi_deg\"] == 90)\n",
    "    & (qss_star[\"Lt_m\"] == 1500)\n",
    "    # & (qss_star['vw_mps'] == 15)\n",
    "].sort_values(by=\"vr_mps\")\n",
    "\n",
    "df_massless = qss_massless_star.loc[\n",
    "    (qss_massless_star[\"beta_deg\"] == beta_bar)\n",
    "    & (qss_massless_star[\"phi_deg\"] == phi_bar)\n",
    "    # & (qss_massless_star['chi_deg'] == 0)  # is always 0 for massless.\n",
    "    & (qss_massless_star[\"Lt_m\"] == 1500)\n",
    "    # & (qss_massless_star['vw_mps'] == 0)\n",
    "].sort_values(by=\"vr_mps\")\n",
    "\n",
    "df_massless_tetherless = qss_massless_tetherless_star.loc[\n",
    "    (qss_massless_tetherless_star[\"beta_deg\"] == beta_bar)\n",
    "    & (qss_massless_tetherless_star[\"phi_deg\"] == phi_bar)\n",
    "    # & (qss_massless_tetherless_star['chi_deg'] == 0)  # is always 0 for massless.\n",
    "    & (qss_massless_tetherless_star[\"Lt_m\"] == 1500)\n",
    "    # & (qss_massless_tetherless_star['vw_mps'] == 0)\n",
    "].sort_values(by=\"vr_mps\")\n",
    "\n",
    "df_tetherdrag_star = qss_tetherdrag_star.loc[\n",
    "    (qss_tetherdrag_star[\"beta_deg\"] == beta_bar)\n",
    "    & (qss_tetherdrag_star[\"phi_deg\"] == phi_bar)\n",
    "    # & (qss_tetherdrag_star['chi_deg'] == 0)  # is always 0 for massless.\n",
    "    & (qss_tetherdrag_star[\"Lt_m\"] == 1500)\n",
    "    # & (qss_tetherdrag_star['vw_mps'] == 0)\n",
    "].sort_values(by=\"vr_mps\")\n",
    "\n",
    "\n",
    "# fig1 = px.line(df, x='vr_mps', y='Ftg_N', markers=True)\n",
    "# fig2 = px.line(df_massless, x='vr_mps', y='Ftg_N', markers=True)\n",
    "# fig3 = px.line(df_massless_tetherless, x='vr_mps', y='Ftg_N', markers=True)\n",
    "\n",
    "# fig_all = go.Figure(data=fig1.data + fig2.data + fig3.data)\n",
    "# fig_all.show()\n",
    "\n",
    "# Massless quick and dirty\n",
    "vr = np.linspace(0, 10, 100)\n",
    "f = (\n",
    "    np.ones_like(vr)\n",
    "    * 1\n",
    "    / 3\n",
    "    * np.cos(np.deg2rad(beta_bar))\n",
    "    * np.cos(np.deg2rad(phi_bar))\n",
    ")\n",
    "Ft = (\n",
    "    0.5\n",
    "    * 1.225\n",
    "    * (vr * 1 / f) ** 2\n",
    "    * 150.45\n",
    "    * 1.76\n",
    "    * np.sqrt(1.0 + (1.0 / 8.4) ** 2.0)\n",
    "    * (1 + 8.4**2)\n",
    "    * (np.cos(np.deg2rad(beta_bar)) * np.cos(np.deg2rad(phi_bar)) - f) ** 2\n",
    ")\n",
    "Ft2 = (\n",
    "    0.5\n",
    "    * 1.225\n",
    "    * (vr * 1 / f) ** 2\n",
    "    * 150.45\n",
    "    * 1.76\n",
    "    * np.sqrt(1.0 + (1.0 / 7.17) ** 2.0)\n",
    "    * (1 + 7.17**2)\n",
    "    * (np.cos(np.deg2rad(beta_bar)) * np.cos(np.deg2rad(phi_bar)) - f) ** 2\n",
    ")\n",
    "P = Ft * vr\n",
    "\n",
    "fig = go.Figure()\n",
    "\n",
    "fig.add_trace(go.Scatter(x=df[\"vr_mps\"], y=df[\"Ftg_N\"], name=\"MegAWES\"))\n",
    "fig.add_trace(\n",
    "    go.Scatter(x=df_massless[\"vr_mps\"], y=df_massless[\"Ftg_N\"], name=\"MegAWES massless\")\n",
    ")\n",
    "fig.add_trace(\n",
    "    go.Scatter(\n",
    "        x=df_massless_tetherless[\"vr_mps\"],\n",
    "        y=df_massless_tetherless[\"Ftg_N\"],\n",
    "        name=\"MegAWES massless & tetherless\",\n",
    "    )\n",
    ")\n",
    "fig.add_trace(\n",
    "    go.Scatter(\n",
    "        x=df_tetherdrag_star[\"vr_mps\"],\n",
    "        y=df_tetherdrag_star[\"Ftg_N\"],\n",
    "        name=\"MegAWES tetherdrag\",\n",
    "    )\n",
    ")\n",
    "fig.add_trace(go.Scatter(x=vr, y=Ft, name=\"Analytical\"))\n",
    "fig.add_trace(go.Scatter(x=vr, y=Ft2, name=\"Analytical2\"))\n",
    "\n",
    "fig.show()"
   ]
  },
  {
   "cell_type": "code",
   "execution_count": null,
   "metadata": {},
   "outputs": [],
   "source": [
    "fig = go.Figure()\n",
    "\n",
    "chi_deg = 0\n",
    "\n",
    "for vw_mps in np.unique(qss.df[\"vw_mps\"]):\n",
    "    # Check if data looks ok.\n",
    "    df = qss.df.loc[\n",
    "        (qss.df[\"beta_deg\"] == 0)\n",
    "        & (qss.df[\"phi_deg\"] == 0)\n",
    "        & (qss.df[\"chi_deg\"] == chi_deg)\n",
    "        & (qss.df[\"Lt_m\"] == 1500)\n",
    "        & (qss.df[\"vw_mps\"] == vw_mps)\n",
    "        # & (qss.df['P_W'] > -1e6)\n",
    "    ].sort_values(by=\"vr_mps\")\n",
    "\n",
    "    fig.add_trace(go.Scatter(x=df[\"vr_mps\"], y=df[\"P_W\"], name=f\"{vw_mps=}\"))\n",
    "\n",
    "df = qss_star.loc[\n",
    "    (qss_star[\"beta_deg\"] == 0)\n",
    "    & (qss_star[\"phi_deg\"] == 0)\n",
    "    & (qss_star[\"chi_deg\"] == chi_deg)\n",
    "    & (qss_star[\"Lt_m\"] == 1500)\n",
    "    # & (qss_star['vw_mps'] == 15)\n",
    "].sort_values(by=\"vr_mps\")\n",
    "fig.add_trace(go.Scatter(x=df[\"vr_mps\"], y=df[\"P_W\"], name=\"optimum\"))\n",
    "fig.show()"
   ]
  }
 ],
 "metadata": {
  "kernelspec": {
   "display_name": "MSc_thesis",
   "language": "python",
   "name": "python3"
  },
  "language_info": {
   "codemirror_mode": {
    "name": "ipython",
    "version": 3
   },
   "file_extension": ".py",
   "mimetype": "text/x-python",
   "name": "python",
   "nbconvert_exporter": "python",
   "pygments_lexer": "ipython3",
   "version": "3.11.0"
  },
  "orig_nbformat": 4,
  "vscode": {
   "interpreter": {
    "hash": "3451243aeb7002a9f0aad858ea655f9b0a50f6f53e4444736783dba4b0fd9969"
   }
  }
 },
 "nbformat": 4,
 "nbformat_minor": 2
}
