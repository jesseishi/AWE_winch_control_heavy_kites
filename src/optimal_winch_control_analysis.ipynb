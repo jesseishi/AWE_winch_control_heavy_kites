{
 "cells": [
  {
   "attachments": {},
   "cell_type": "markdown",
   "metadata": {},
   "source": [
    "# Optimal winch control for kites with mass\n",
    "\n",
    "TODO:\n",
    "- Use pd dataframe to save all the data. Then it can have higher/lower\n",
    "  resolution at points of interest.\n",
    "- yaml file for MegAWES parameters.\n",
    "- Use Cl/Cd_kite+tether for Dylan's paper and set tether.CD to zero in\n",
    "  quasi-steady model? Then we do use more 'realistic' data.\n",
    "\n",
    "Further optimizations for the winch controller:\n",
    "- Could do beta_fixed and phi_fixed as function of L."
   ]
  },
  {
   "cell_type": "code",
   "execution_count": 1,
   "metadata": {},
   "outputs": [],
   "source": [
    "# When working with submodules it is a bit awkward to import them, especially if\n",
    "# they're not python packages (with __init__.py files).\n",
    "# https://stackoverflow.com/questions/29746958/how-to-import-python-file-from-git-submodule\n",
    "import sys\n",
    "import os\n",
    "\n",
    "(parent_folder_path, _) = os.path.split(os.getcwd())\n",
    "workshop_path = os.path.join(parent_folder_path, \"workshop\")\n",
    "sys.path.append(workshop_path)\n",
    "\n",
    "import qsm"
   ]
  },
  {
   "cell_type": "code",
   "execution_count": 2,
   "metadata": {},
   "outputs": [],
   "source": [
    "# Import required packages.\n",
    "import matplotlib.pyplot as plt\n",
    "from matplotlib import cm\n",
    "import numpy as np\n",
    "import plotly.graph_objects as go\n",
    "from plotly.subplots import make_subplots\n",
    "\n",
    "# Configure the default plotting settings\n",
    "size=13\n",
    "params = {'legend.fontsize': 'large',\n",
    "          'figure.figsize': (8,5),\n",
    "          'axes.labelsize': size,\n",
    "          'axes.titlesize': size,\n",
    "          'xtick.labelsize': size*0.85,\n",
    "          'ytick.labelsize': size*0.85,\n",
    "          'axes.titlepad': 25}\n",
    "plt.rcParams.update(params)"
   ]
  },
  {
   "cell_type": "code",
   "execution_count": null,
   "metadata": {},
   "outputs": [],
   "source": []
  }
 ],
 "metadata": {
  "kernelspec": {
   "display_name": "MSc_thesis",
   "language": "python",
   "name": "python3"
  },
  "language_info": {
   "codemirror_mode": {
    "name": "ipython",
    "version": 3
   },
   "file_extension": ".py",
   "mimetype": "text/x-python",
   "name": "python",
   "nbconvert_exporter": "python",
   "pygments_lexer": "ipython3",
   "version": "3.11.0"
  },
  "orig_nbformat": 4,
  "vscode": {
   "interpreter": {
    "hash": "3451243aeb7002a9f0aad858ea655f9b0a50f6f53e4444736783dba4b0fd9969"
   }
  }
 },
 "nbformat": 4,
 "nbformat_minor": 2
}
