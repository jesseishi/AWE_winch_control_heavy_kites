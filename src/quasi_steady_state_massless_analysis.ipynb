{
 "cells": [
  {
   "attachments": {},
   "cell_type": "markdown",
   "metadata": {},
   "source": [
    "# Analyse quasi-steady states for a massless kite"
   ]
  },
  {
   "cell_type": "code",
   "execution_count": null,
   "metadata": {},
   "outputs": [],
   "source": [
    "from itertools import product\n",
    "\n",
    "import matplotlib.pyplot as plt\n",
    "import numpy as np\n",
    "import pandas as pd\n",
    "import plotly.express as px\n",
    "import plotly.graph_objects as go\n",
    "import seaborn as sns\n",
    "import yaml"
   ]
  },
  {
   "cell_type": "code",
   "execution_count": null,
   "metadata": {},
   "outputs": [],
   "source": [
    "# Load the parameter file. These are values that will remain fixed.\n",
    "with open(\"../parameters/MegAWES_massless.yaml\", \"r\") as f:\n",
    "    try:\n",
    "        params = yaml.safe_load(f)\n",
    "        kite = params[\"kite\"]\n",
    "        tether = params[\"tether\"]\n",
    "        environment = params[\"environment\"]\n",
    "\n",
    "    except yaml.YAMLError as exc:\n",
    "        print(exc)"
   ]
  },
  {
   "cell_type": "code",
   "execution_count": null,
   "metadata": {},
   "outputs": [],
   "source": [
    "# All combinations of the variables in `ranges` a state will be calculated.\n",
    "ranges = {\n",
    "    \"vw_mps\": np.linspace(0, 30, 100),  # wind speed [m/s]\n",
    "    \"beta_deg\": [0.0, 30.0],  # elevation [deg]\n",
    "    \"phi_deg\": [0.0, 17.5],  # azimuth [deg]\n",
    "    \"Lt_m\": [500, 1000, 1500],  # tether length [m] (no mass effects, just drag).\n",
    "}\n",
    "\n",
    "# Make a new DataFrame that expands these ranges in all possible combinations.\n",
    "# For all combinations we'll calculate the best reeling factor.\n",
    "df_star = pd.DataFrame(product(*ranges.values()), columns=ranges.keys())"
   ]
  },
  {
   "cell_type": "code",
   "execution_count": null,
   "metadata": {},
   "outputs": [],
   "source": [
    "# Quasi-steady model for the ideal reeling factor.\n",
    "def f_star(beta_deg, phi_deg):\n",
    "    return 1 / 3 * np.cos(np.deg2rad(beta_deg)) * np.cos(np.deg2rad(phi_deg))\n",
    "\n",
    "\n",
    "# The effective lift-to-drag ratio is lowered by a certain amount of tether drag.\n",
    "def E_eff(Lt_m):\n",
    "    C_D = kite[\"C_L\"] / kite[\"E\"]\n",
    "    C_D_eff = C_D + 0.5 * tether[\"r_m\"] * Lt_m / kite[\"S_m2\"] * tether[\"Cd_t\"]\n",
    "    return kite[\"C_L\"] / C_D_eff\n",
    "\n",
    "\n",
    "# Quasi-steady model for tether force.\n",
    "def Ftg(beta_deg, phi_deg, E_eff, vw_mps, f):\n",
    "    q = 1 / 2 * environment[\"rho_kgpm3\"] * vw_mps**2\n",
    "\n",
    "    C_R = kite[\"C_L\"] * np.sqrt(1 + 1 / E_eff**2)\n",
    "    return (\n",
    "        q\n",
    "        * kite[\"S_m2\"]\n",
    "        * C_R\n",
    "        * (1 + E_eff**2)\n",
    "        * (np.cos(np.deg2rad(beta_deg)) * np.cos(np.deg2rad(phi_deg)) - f) ** 2\n",
    "    )\n",
    "\n",
    "\n",
    "# Output power.\n",
    "def P(vw_mps, f, Ft):\n",
    "    return vw_mps * f * Ft"
   ]
  },
  {
   "cell_type": "code",
   "execution_count": null,
   "metadata": {},
   "outputs": [],
   "source": [
    "# Calculate the ideal state.\n",
    "df_star = df_star.assign(f_star=lambda row: f_star(row.beta_deg, row.phi_deg))\n",
    "df_star = df_star.assign(E_eff=lambda row: E_eff(row.Lt_m))\n",
    "df_star = df_star.assign(\n",
    "    Ftg_N_star=lambda row: Ftg(\n",
    "        row.beta_deg,\n",
    "        row.phi_deg,\n",
    "        row.E_eff,\n",
    "        row.vw_mps,\n",
    "        row.f_star,\n",
    "    )\n",
    ")\n",
    "df_star = df_star.assign(P_W_star=lambda row: P(row.vw_mps, row.f_star, row.Ftg_N_star))\n",
    "\n",
    "# Calculate the ideal reel-out speed.\n",
    "df_star[\"vr_mps_star\"] = df_star[\"f_star\"] * df_star[\"vw_mps\"]"
   ]
  },
  {
   "cell_type": "code",
   "execution_count": null,
   "metadata": {},
   "outputs": [],
   "source": [
    "df_star.head()\n"
   ]
  },
  {
   "cell_type": "code",
   "execution_count": null,
   "metadata": {},
   "outputs": [],
   "source": [
    "df_star.to_csv(\"../results/MegAWES_massless_analytical_star.csv\")\n"
   ]
  },
  {
   "cell_type": "code",
   "execution_count": null,
   "metadata": {},
   "outputs": [],
   "source": [
    "# If we're not interested in the maximum instantaneous power, but in all possible\n",
    "# combinations, we loop over all possible reel-out factors, and also calculate the\n",
    "# states for those.\n",
    "ranges = {\n",
    "    \"vw_mps\": np.arange(0, 30, 0.5),  # wind speed [m/s]\n",
    "    \"beta_deg\": [0.0, 30.0],  # elevation [deg]\n",
    "    \"phi_deg\": [0.0, 17.5],  # azimuth [deg]\n",
    "    \"Lt_m\": [500, 1000, 1500],  # tether length [m] (no mass effects, just drag).\n",
    "    \"f\": np.arange(-1.0, 1.0, 0.05),  # reeling speed [-].\n",
    "}\n",
    "\n",
    "# Make a new DataFrame that expands these ranges in all possible combinations.\n",
    "df = pd.DataFrame(product(*ranges.values()), columns=ranges.keys())\n",
    "\n",
    "df = df.assign(E_eff=lambda row: E_eff(row.Lt_m))\n",
    "df = df.assign(\n",
    "    Ftg_N=lambda row: Ftg(\n",
    "        row.beta_deg,\n",
    "        row.phi_deg,\n",
    "        row.E_eff,\n",
    "        row.vw_mps,\n",
    "        row.f,\n",
    "    )\n",
    ")\n",
    "df = df.assign(P_W=lambda row: P(row.vw_mps, row.f, row.Ftg_N))\n",
    "\n",
    "df[\"vr_mps\"] = df[\"f\"] * df[\"vw_mps\"]\n",
    "df.to_csv(\"../results/MegAWES_massless_analytical.csv\")"
   ]
  },
  {
   "attachments": {},
   "cell_type": "markdown",
   "metadata": {},
   "source": [
    "# Plotting\n",
    "Let's see what this looks like."
   ]
  },
  {
   "cell_type": "code",
   "execution_count": null,
   "metadata": {},
   "outputs": [],
   "source": [
    "import my_plotly_themes"
   ]
  },
  {
   "cell_type": "code",
   "execution_count": null,
   "metadata": {},
   "outputs": [],
   "source": [
    "# Check at which reeling factor the optimal power output lies.\n",
    "\n",
    "temp = df[\n",
    "    (df['Lt_m'] == 1000)\n",
    "    & (df['vw_mps'] == 10)\n",
    "    ]\n",
    "\n",
    "px.line(\n",
    "    temp,\n",
    "    x='f',\n",
    "    y='P_W',\n",
    "    color='beta_deg',\n",
    "    symbol='phi_deg',\n",
    ")"
   ]
  },
  {
   "cell_type": "code",
   "execution_count": null,
   "metadata": {},
   "outputs": [],
   "source": [
    "# Plotting the maximum instantaneous power output (`P_W_star`) over all wind speeds, for\n",
    "# different elevation, azimuth, and tether length.\n",
    "px.line(\n",
    "    df_star,\n",
    "    x=\"vw_mps\",\n",
    "    y=\"P_W_star\",\n",
    "    color=\"beta_deg\",\n",
    "    symbol=\"phi_deg\",\n",
    "    facet_col=\"Lt_m\",\n",
    ")"
   ]
  },
  {
   "cell_type": "code",
   "execution_count": null,
   "metadata": {},
   "outputs": [],
   "source": [
    "# I sometimes switch to seaborn/matplotlib because some subplots are extremely tedious\n",
    "# to make with plotly. I especially found margins and stuff to be a pain.\n",
    "fig, axs = plt.subplots(1, 3, figsize=(15.75 / 2.54 + 3, 4))\n",
    "\n",
    "temp = df_star[df_star[\"Lt_m\"] == 1000]\n",
    "\n",
    "ys = [\"f_star\", \"Ftg_N_star\", \"P_W_star\"]\n",
    "for i, y in enumerate(ys):\n",
    "    sns.lineplot(\n",
    "        data=temp,\n",
    "        x=\"vw_mps\",\n",
    "        y=y,\n",
    "        hue=\"beta_deg\",\n",
    "        style=\"phi_deg\",\n",
    "        ax=axs[i],\n",
    "        legend=True if i == 2 else False,\n",
    "    )\n",
    "\n",
    "# axs[2].legend(bbox_to_anchor=(1.05, 1.05))\n",
    "for ax in axs:\n",
    "    ax.set_xlabel(\"windspeed [m/s]\")\n",
    "\n",
    "axs[0].set_ylabel(\"f* [-]\")\n",
    "axs[1].set_ylabel(\"Ft* [N]\")\n",
    "axs[2].set_ylabel(\"P* [W]\")\n",
    "plt.tight_layout()"
   ]
  },
  {
   "cell_type": "code",
   "execution_count": null,
   "metadata": {},
   "outputs": [],
   "source": [
    "# This is a very interesting figure. It plots the ideal vr-Ft graph. If the winch\n",
    "# ensures that the kite stays on this optimal vr-Ft line, it will operate at optimal\n",
    "# (instantaneous) power output. As you can see, the lines for different elevation and\n",
    "# azimuth are on top of each other. So one strategy can be used (when ignoring the\n",
    "# effect of tether length and mass).\n",
    "fig, ax = plt.subplots(1, 1, figsize=(15.75 / 2.54 + 3, 4))\n",
    "\n",
    "sns.lineplot(\n",
    "    data=temp,\n",
    "    x=\"vr_mps_star\",\n",
    "    y=\"Ftg_N_star\",\n",
    "    hue=\"beta_deg\",\n",
    "    style=\"phi_deg\",\n",
    "    ax=ax,\n",
    ")\n",
    "\n",
    "ax.set_xlabel(\"reeling speed [m/s]\")\n",
    "ax.set_ylabel(\"Ft* [-]\")\n",
    "plt.tight_layout()"
   ]
  }
 ],
 "metadata": {
  "kernelspec": {
   "display_name": "MSc_thesis",
   "language": "python",
   "name": "python3"
  },
  "language_info": {
   "codemirror_mode": {
    "name": "ipython",
    "version": 3
   },
   "file_extension": ".py",
   "mimetype": "text/x-python",
   "name": "python",
   "nbconvert_exporter": "python",
   "pygments_lexer": "ipython3",
   "version": "3.11.0"
  },
  "orig_nbformat": 4,
  "vscode": {
   "interpreter": {
    "hash": "3451243aeb7002a9f0aad858ea655f9b0a50f6f53e4444736783dba4b0fd9969"
   }
  }
 },
 "nbformat": 4,
 "nbformat_minor": 2
}
