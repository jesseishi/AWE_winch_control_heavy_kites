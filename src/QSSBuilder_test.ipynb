{
 "cells": [
  {
   "cell_type": "code",
   "execution_count": null,
   "metadata": {},
   "outputs": [],
   "source": [
    "import numpy as np\n",
    "\n",
    "from QSSBuilder import QSSBuilder\n"
   ]
  },
  {
   "cell_type": "code",
   "execution_count": null,
   "metadata": {},
   "outputs": [],
   "source": [
    "# Start the QSSBuilder using the parameters of MegAWES.\n",
    "qss = QSSBuilder(\"MegAWES\")  # When you want to start from scratch.\n",
    "# qss = QSSBuilder.from_csv(\"MegAWES\")  # When you want to continue from an existing csv.\n"
   ]
  },
  {
   "cell_type": "code",
   "execution_count": null,
   "metadata": {},
   "outputs": [],
   "source": [
    "qss.kite\n"
   ]
  },
  {
   "cell_type": "code",
   "execution_count": null,
   "metadata": {},
   "outputs": [],
   "source": [
    "qss.add_steady_states(\n",
    "    {\n",
    "        \"vw_mps\": [15],  # np.unique(np.linspace(0, 30, 13)),\n",
    "        \"Lt_m\": [500, 1000, 1500],\n",
    "        \"phi_deg\": [0.0],  # [0.0, 17.5],\n",
    "        \"beta_deg\": [0.0],  # [0, 30],\n",
    "        \"chi_deg\": [90.0],  # np.unique(np.linspace(0, 180, 5, dtype=int)),\n",
    "        # TODO: Smarter way to find different Ftk_N that work than looping over all values.\n",
    "        # Use dtype int for the merge into an existing DataFrame to be less error-prone.\n",
    "        # Otherwise it sometimes couldn't match two floats with each other. Integer\n",
    "        # precision is also more than enough here.\n",
    "        # \"Ftk_N\": np.unique(np.logspace(1, 7, 103, dtype=int)),\n",
    "        \"Ftk_N\": np.unique(np.arange(10, 1e7, 50000, dtype=int)),\n",
    "    }\n",
    ")\n"
   ]
  },
  {
   "cell_type": "code",
   "execution_count": null,
   "metadata": {},
   "outputs": [],
   "source": [
    "qss.save_df()\n"
   ]
  },
  {
   "cell_type": "code",
   "execution_count": null,
   "metadata": {},
   "outputs": [],
   "source": [
    "qss.df\n"
   ]
  }
 ],
 "metadata": {
  "kernelspec": {
   "display_name": "MSc_thesis",
   "language": "python",
   "name": "python3"
  },
  "language_info": {
   "codemirror_mode": {
    "name": "ipython",
    "version": 3
   },
   "file_extension": ".py",
   "mimetype": "text/x-python",
   "name": "python",
   "nbconvert_exporter": "python",
   "pygments_lexer": "ipython3",
   "version": "3.11.0"
  },
  "orig_nbformat": 4,
  "vscode": {
   "interpreter": {
    "hash": "3451243aeb7002a9f0aad858ea655f9b0a50f6f53e4444736783dba4b0fd9969"
   }
  }
 },
 "nbformat": 4,
 "nbformat_minor": 2
}
